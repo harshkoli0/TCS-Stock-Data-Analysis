{
 "cells": [
  {
   "cell_type": "code",
   "execution_count": 3,
   "id": "9f9376f3-5464-43d4-95ca-722819a416b0",
   "metadata": {},
   "outputs": [],
   "source": [
    "#pip install yfinance"
   ]
  },
  {
   "cell_type": "code",
   "execution_count": 4,
   "id": "bb6c5a79-6997-440f-a03b-635e58f4f75a",
   "metadata": {},
   "outputs": [],
   "source": [
    "import yfinance as fy\n",
    "import pandas as pd\n",
    "import seaborn as sns\n",
    "import matplotlib.pyplot as plt\n",
    "#df = fy.download(\"TCS.NS\", start=\"2024-01-01\", end=\"2025-01-01\")\n"
   ]
  },
  {
   "cell_type": "code",
   "execution_count": 5,
   "id": "814a8235-b4d0-452c-af89-99a636075abd",
   "metadata": {},
   "outputs": [
    {
     "data": {
      "text/html": [
       "<div>\n",
       "<style scoped>\n",
       "    .dataframe tbody tr th:only-of-type {\n",
       "        vertical-align: middle;\n",
       "    }\n",
       "\n",
       "    .dataframe tbody tr th {\n",
       "        vertical-align: top;\n",
       "    }\n",
       "\n",
       "    .dataframe thead th {\n",
       "        text-align: right;\n",
       "    }\n",
       "</style>\n",
       "<table border=\"1\" class=\"dataframe\">\n",
       "  <thead>\n",
       "    <tr style=\"text-align: right;\">\n",
       "      <th></th>\n",
       "      <th>Price</th>\n",
       "      <th>Close</th>\n",
       "      <th>High</th>\n",
       "      <th>Low</th>\n",
       "      <th>Open</th>\n",
       "      <th>Volume</th>\n",
       "    </tr>\n",
       "  </thead>\n",
       "  <tbody>\n",
       "    <tr>\n",
       "      <th>0</th>\n",
       "      <td>Ticker</td>\n",
       "      <td>TCS.NS</td>\n",
       "      <td>TCS.NS</td>\n",
       "      <td>TCS.NS</td>\n",
       "      <td>TCS.NS</td>\n",
       "      <td>TCS.NS</td>\n",
       "    </tr>\n",
       "    <tr>\n",
       "      <th>1</th>\n",
       "      <td>Date</td>\n",
       "      <td>NaN</td>\n",
       "      <td>NaN</td>\n",
       "      <td>NaN</td>\n",
       "      <td>NaN</td>\n",
       "      <td>NaN</td>\n",
       "    </tr>\n",
       "    <tr>\n",
       "      <th>2</th>\n",
       "      <td>2024-01-01</td>\n",
       "      <td>3689.464599609375</td>\n",
       "      <td>3709.6974583264628</td>\n",
       "      <td>3652.580508942</td>\n",
       "      <td>3669.037935035828</td>\n",
       "      <td>825907</td>\n",
       "    </tr>\n",
       "    <tr>\n",
       "      <th>3</th>\n",
       "      <td>2024-01-02</td>\n",
       "      <td>3662.455078125</td>\n",
       "      <td>3689.4647615916324</td>\n",
       "      <td>3647.014186705242</td>\n",
       "      <td>3689.4647615916324</td>\n",
       "      <td>1344068</td>\n",
       "    </tr>\n",
       "    <tr>\n",
       "      <th>4</th>\n",
       "      <td>2024-01-03</td>\n",
       "      <td>3573.923583984375</td>\n",
       "      <td>3651.46719557593</td>\n",
       "      <td>3569.3736371199507</td>\n",
       "      <td>3646.7718943235973</td>\n",
       "      <td>1803075</td>\n",
       "    </tr>\n",
       "    <tr>\n",
       "      <th>...</th>\n",
       "      <td>...</td>\n",
       "      <td>...</td>\n",
       "      <td>...</td>\n",
       "      <td>...</td>\n",
       "      <td>...</td>\n",
       "      <td>...</td>\n",
       "    </tr>\n",
       "    <tr>\n",
       "      <th>243</th>\n",
       "      <td>2024-12-24</td>\n",
       "      <td>4113.92041015625</td>\n",
       "      <td>4151.816315358072</td>\n",
       "      <td>4093.0528623167015</td>\n",
       "      <td>4093.0528623167015</td>\n",
       "      <td>1181886</td>\n",
       "    </tr>\n",
       "    <tr>\n",
       "      <th>244</th>\n",
       "      <td>2024-12-26</td>\n",
       "      <td>4103.68359375</td>\n",
       "      <td>4134.049628782047</td>\n",
       "      <td>4078.140577688001</td>\n",
       "      <td>4113.920313335754</td>\n",
       "      <td>1208464</td>\n",
       "    </tr>\n",
       "    <tr>\n",
       "      <th>245</th>\n",
       "      <td>2024-12-27</td>\n",
       "      <td>4099.50048828125</td>\n",
       "      <td>4115.347963377728</td>\n",
       "      <td>4082.1765493053435</td>\n",
       "      <td>4097.679420039338</td>\n",
       "      <td>858100</td>\n",
       "    </tr>\n",
       "    <tr>\n",
       "      <th>246</th>\n",
       "      <td>2024-12-30</td>\n",
       "      <td>4093.545166015625</td>\n",
       "      <td>4133.409691121346</td>\n",
       "      <td>4047.479684808028</td>\n",
       "      <td>4085.8677460209447</td>\n",
       "      <td>1527169</td>\n",
       "    </tr>\n",
       "    <tr>\n",
       "      <th>247</th>\n",
       "      <td>2024-12-31</td>\n",
       "      <td>4030.549560546875</td>\n",
       "      <td>4074.9912673216186</td>\n",
       "      <td>3968.7841551770334</td>\n",
       "      <td>4070.1187442915557</td>\n",
       "      <td>1555429</td>\n",
       "    </tr>\n",
       "  </tbody>\n",
       "</table>\n",
       "<p>248 rows × 6 columns</p>\n",
       "</div>"
      ],
      "text/plain": [
       "          Price              Close                High                 Low  \\\n",
       "0        Ticker             TCS.NS              TCS.NS              TCS.NS   \n",
       "1          Date                NaN                 NaN                 NaN   \n",
       "2    2024-01-01  3689.464599609375  3709.6974583264628      3652.580508942   \n",
       "3    2024-01-02     3662.455078125  3689.4647615916324   3647.014186705242   \n",
       "4    2024-01-03  3573.923583984375    3651.46719557593  3569.3736371199507   \n",
       "..          ...                ...                 ...                 ...   \n",
       "243  2024-12-24   4113.92041015625   4151.816315358072  4093.0528623167015   \n",
       "244  2024-12-26      4103.68359375   4134.049628782047   4078.140577688001   \n",
       "245  2024-12-27   4099.50048828125   4115.347963377728  4082.1765493053435   \n",
       "246  2024-12-30  4093.545166015625   4133.409691121346   4047.479684808028   \n",
       "247  2024-12-31  4030.549560546875  4074.9912673216186  3968.7841551770334   \n",
       "\n",
       "                   Open   Volume  \n",
       "0                TCS.NS   TCS.NS  \n",
       "1                   NaN      NaN  \n",
       "2     3669.037935035828   825907  \n",
       "3    3689.4647615916324  1344068  \n",
       "4    3646.7718943235973  1803075  \n",
       "..                  ...      ...  \n",
       "243  4093.0528623167015  1181886  \n",
       "244   4113.920313335754  1208464  \n",
       "245   4097.679420039338   858100  \n",
       "246  4085.8677460209447  1527169  \n",
       "247  4070.1187442915557  1555429  \n",
       "\n",
       "[248 rows x 6 columns]"
      ]
     },
     "execution_count": 5,
     "metadata": {},
     "output_type": "execute_result"
    }
   ],
   "source": [
    "df1=pd.read_csv(r\"C:\\Users\\hkoli\\Downloads\\stock_tata_tcs.xls\")\n",
    "df1"
   ]
  },
  {
   "cell_type": "code",
   "execution_count": 6,
   "id": "d64e8396-13ad-4f44-9060-5a4a690bbc4d",
   "metadata": {},
   "outputs": [
    {
     "name": "stdout",
     "output_type": "stream",
     "text": [
      "done\n"
     ]
    }
   ],
   "source": [
    "df1.to_excel(\"stock_tata_tcs.xlsx\", index=False, engine=\"openpyxl\")\n",
    "print(\"done\")"
   ]
  },
  {
   "cell_type": "code",
   "execution_count": 7,
   "id": "806574c3-51f7-4773-a0a6-5a5da0229420",
   "metadata": {},
   "outputs": [
    {
     "data": {
      "text/html": [
       "<div>\n",
       "<style scoped>\n",
       "    .dataframe tbody tr th:only-of-type {\n",
       "        vertical-align: middle;\n",
       "    }\n",
       "\n",
       "    .dataframe tbody tr th {\n",
       "        vertical-align: top;\n",
       "    }\n",
       "\n",
       "    .dataframe thead th {\n",
       "        text-align: right;\n",
       "    }\n",
       "</style>\n",
       "<table border=\"1\" class=\"dataframe\">\n",
       "  <thead>\n",
       "    <tr style=\"text-align: right;\">\n",
       "      <th></th>\n",
       "      <th>Date</th>\n",
       "      <th>Close</th>\n",
       "      <th>High</th>\n",
       "      <th>Low</th>\n",
       "      <th>Open</th>\n",
       "      <th>Volume</th>\n",
       "    </tr>\n",
       "  </thead>\n",
       "  <tbody>\n",
       "    <tr>\n",
       "      <th>0</th>\n",
       "      <td>2024-01-01</td>\n",
       "      <td>3689.464600</td>\n",
       "      <td>3709.697458</td>\n",
       "      <td>3652.580509</td>\n",
       "      <td>3669.037935</td>\n",
       "      <td>825907</td>\n",
       "    </tr>\n",
       "    <tr>\n",
       "      <th>1</th>\n",
       "      <td>2024-01-02</td>\n",
       "      <td>3662.455078</td>\n",
       "      <td>3689.464762</td>\n",
       "      <td>3647.014187</td>\n",
       "      <td>3689.464762</td>\n",
       "      <td>1344068</td>\n",
       "    </tr>\n",
       "    <tr>\n",
       "      <th>2</th>\n",
       "      <td>2024-01-03</td>\n",
       "      <td>3573.923584</td>\n",
       "      <td>3651.467196</td>\n",
       "      <td>3569.373637</td>\n",
       "      <td>3646.771894</td>\n",
       "      <td>1803075</td>\n",
       "    </tr>\n",
       "    <tr>\n",
       "      <th>3</th>\n",
       "      <td>2024-01-04</td>\n",
       "      <td>3549.770264</td>\n",
       "      <td>3600.304198</td>\n",
       "      <td>3534.474490</td>\n",
       "      <td>3583.604750</td>\n",
       "      <td>3598144</td>\n",
       "    </tr>\n",
       "    <tr>\n",
       "      <th>4</th>\n",
       "      <td>2024-01-05</td>\n",
       "      <td>3618.600586</td>\n",
       "      <td>3628.136307</td>\n",
       "      <td>3557.563087</td>\n",
       "      <td>3557.708205</td>\n",
       "      <td>1963127</td>\n",
       "    </tr>\n",
       "    <tr>\n",
       "      <th>...</th>\n",
       "      <td>...</td>\n",
       "      <td>...</td>\n",
       "      <td>...</td>\n",
       "      <td>...</td>\n",
       "      <td>...</td>\n",
       "      <td>...</td>\n",
       "    </tr>\n",
       "    <tr>\n",
       "      <th>241</th>\n",
       "      <td>2024-12-24</td>\n",
       "      <td>4113.920410</td>\n",
       "      <td>4151.816315</td>\n",
       "      <td>4093.052862</td>\n",
       "      <td>4093.052862</td>\n",
       "      <td>1181886</td>\n",
       "    </tr>\n",
       "    <tr>\n",
       "      <th>242</th>\n",
       "      <td>2024-12-26</td>\n",
       "      <td>4103.683594</td>\n",
       "      <td>4134.049629</td>\n",
       "      <td>4078.140578</td>\n",
       "      <td>4113.920313</td>\n",
       "      <td>1208464</td>\n",
       "    </tr>\n",
       "    <tr>\n",
       "      <th>243</th>\n",
       "      <td>2024-12-27</td>\n",
       "      <td>4099.500488</td>\n",
       "      <td>4115.347963</td>\n",
       "      <td>4082.176549</td>\n",
       "      <td>4097.679420</td>\n",
       "      <td>858100</td>\n",
       "    </tr>\n",
       "    <tr>\n",
       "      <th>244</th>\n",
       "      <td>2024-12-30</td>\n",
       "      <td>4093.545166</td>\n",
       "      <td>4133.409691</td>\n",
       "      <td>4047.479685</td>\n",
       "      <td>4085.867746</td>\n",
       "      <td>1527169</td>\n",
       "    </tr>\n",
       "    <tr>\n",
       "      <th>245</th>\n",
       "      <td>2024-12-31</td>\n",
       "      <td>4030.549561</td>\n",
       "      <td>4074.991267</td>\n",
       "      <td>3968.784155</td>\n",
       "      <td>4070.118744</td>\n",
       "      <td>1555429</td>\n",
       "    </tr>\n",
       "  </tbody>\n",
       "</table>\n",
       "<p>246 rows × 6 columns</p>\n",
       "</div>"
      ],
      "text/plain": [
       "           Date        Close         High          Low         Open   Volume\n",
       "0    2024-01-01  3689.464600  3709.697458  3652.580509  3669.037935   825907\n",
       "1    2024-01-02  3662.455078  3689.464762  3647.014187  3689.464762  1344068\n",
       "2    2024-01-03  3573.923584  3651.467196  3569.373637  3646.771894  1803075\n",
       "3    2024-01-04  3549.770264  3600.304198  3534.474490  3583.604750  3598144\n",
       "4    2024-01-05  3618.600586  3628.136307  3557.563087  3557.708205  1963127\n",
       "..          ...          ...          ...          ...          ...      ...\n",
       "241  2024-12-24  4113.920410  4151.816315  4093.052862  4093.052862  1181886\n",
       "242  2024-12-26  4103.683594  4134.049629  4078.140578  4113.920313  1208464\n",
       "243  2024-12-27  4099.500488  4115.347963  4082.176549  4097.679420   858100\n",
       "244  2024-12-30  4093.545166  4133.409691  4047.479685  4085.867746  1527169\n",
       "245  2024-12-31  4030.549561  4074.991267  3968.784155  4070.118744  1555429\n",
       "\n",
       "[246 rows x 6 columns]"
      ]
     },
     "execution_count": 7,
     "metadata": {},
     "output_type": "execute_result"
    }
   ],
   "source": [
    "df1=pd.read_excel(r\"C:\\Users\\hkoli\\Downloads\\stock_tata_tcs.xlsx\")\n",
    "df1"
   ]
  },
  {
   "cell_type": "code",
   "execution_count": 8,
   "id": "ffa2ac75-7498-4bac-bf12-d375b189cd91",
   "metadata": {},
   "outputs": [
    {
     "data": {
      "text/plain": [
       "(246, 6)"
      ]
     },
     "execution_count": 8,
     "metadata": {},
     "output_type": "execute_result"
    }
   ],
   "source": [
    "df1.shape"
   ]
  },
  {
   "cell_type": "code",
   "execution_count": 9,
   "id": "d17a6fa0-07a7-43eb-b5f2-3516f0d09824",
   "metadata": {},
   "outputs": [
    {
     "data": {
      "text/plain": [
       "Date       object\n",
       "Close     float64\n",
       "High      float64\n",
       "Low       float64\n",
       "Open      float64\n",
       "Volume      int64\n",
       "dtype: object"
      ]
     },
     "execution_count": 9,
     "metadata": {},
     "output_type": "execute_result"
    }
   ],
   "source": [
    "#datatype \n",
    "df1.dtypes"
   ]
  },
  {
   "cell_type": "code",
   "execution_count": null,
   "id": "a3b6a98f-8c25-436a-b0b5-300154c3c456",
   "metadata": {},
   "outputs": [],
   "source": []
  },
  {
   "cell_type": "code",
   "execution_count": 10,
   "id": "7c019d5f-f990-43ed-a5be-7dda771bec7c",
   "metadata": {},
   "outputs": [
    {
     "data": {
      "text/html": [
       "<div>\n",
       "<style scoped>\n",
       "    .dataframe tbody tr th:only-of-type {\n",
       "        vertical-align: middle;\n",
       "    }\n",
       "\n",
       "    .dataframe tbody tr th {\n",
       "        vertical-align: top;\n",
       "    }\n",
       "\n",
       "    .dataframe thead th {\n",
       "        text-align: right;\n",
       "    }\n",
       "</style>\n",
       "<table border=\"1\" class=\"dataframe\">\n",
       "  <thead>\n",
       "    <tr style=\"text-align: right;\">\n",
       "      <th></th>\n",
       "      <th>Date</th>\n",
       "      <th>Close</th>\n",
       "      <th>High</th>\n",
       "      <th>Low</th>\n",
       "      <th>Open</th>\n",
       "      <th>Volume</th>\n",
       "    </tr>\n",
       "  </thead>\n",
       "  <tbody>\n",
       "    <tr>\n",
       "      <th>0</th>\n",
       "      <td>2024-01-01</td>\n",
       "      <td>3689.464600</td>\n",
       "      <td>3709.697458</td>\n",
       "      <td>3652.580509</td>\n",
       "      <td>3669.037935</td>\n",
       "      <td>825907</td>\n",
       "    </tr>\n",
       "    <tr>\n",
       "      <th>1</th>\n",
       "      <td>2024-01-02</td>\n",
       "      <td>3662.455078</td>\n",
       "      <td>3689.464762</td>\n",
       "      <td>3647.014187</td>\n",
       "      <td>3689.464762</td>\n",
       "      <td>1344068</td>\n",
       "    </tr>\n",
       "    <tr>\n",
       "      <th>2</th>\n",
       "      <td>2024-01-03</td>\n",
       "      <td>3573.923584</td>\n",
       "      <td>3651.467196</td>\n",
       "      <td>3569.373637</td>\n",
       "      <td>3646.771894</td>\n",
       "      <td>1803075</td>\n",
       "    </tr>\n",
       "    <tr>\n",
       "      <th>3</th>\n",
       "      <td>2024-01-04</td>\n",
       "      <td>3549.770264</td>\n",
       "      <td>3600.304198</td>\n",
       "      <td>3534.474490</td>\n",
       "      <td>3583.604750</td>\n",
       "      <td>3598144</td>\n",
       "    </tr>\n",
       "    <tr>\n",
       "      <th>4</th>\n",
       "      <td>2024-01-05</td>\n",
       "      <td>3618.600586</td>\n",
       "      <td>3628.136307</td>\n",
       "      <td>3557.563087</td>\n",
       "      <td>3557.708205</td>\n",
       "      <td>1963127</td>\n",
       "    </tr>\n",
       "    <tr>\n",
       "      <th>...</th>\n",
       "      <td>...</td>\n",
       "      <td>...</td>\n",
       "      <td>...</td>\n",
       "      <td>...</td>\n",
       "      <td>...</td>\n",
       "      <td>...</td>\n",
       "    </tr>\n",
       "    <tr>\n",
       "      <th>241</th>\n",
       "      <td>2024-12-24</td>\n",
       "      <td>4113.920410</td>\n",
       "      <td>4151.816315</td>\n",
       "      <td>4093.052862</td>\n",
       "      <td>4093.052862</td>\n",
       "      <td>1181886</td>\n",
       "    </tr>\n",
       "    <tr>\n",
       "      <th>242</th>\n",
       "      <td>2024-12-26</td>\n",
       "      <td>4103.683594</td>\n",
       "      <td>4134.049629</td>\n",
       "      <td>4078.140578</td>\n",
       "      <td>4113.920313</td>\n",
       "      <td>1208464</td>\n",
       "    </tr>\n",
       "    <tr>\n",
       "      <th>243</th>\n",
       "      <td>2024-12-27</td>\n",
       "      <td>4099.500488</td>\n",
       "      <td>4115.347963</td>\n",
       "      <td>4082.176549</td>\n",
       "      <td>4097.679420</td>\n",
       "      <td>858100</td>\n",
       "    </tr>\n",
       "    <tr>\n",
       "      <th>244</th>\n",
       "      <td>2024-12-30</td>\n",
       "      <td>4093.545166</td>\n",
       "      <td>4133.409691</td>\n",
       "      <td>4047.479685</td>\n",
       "      <td>4085.867746</td>\n",
       "      <td>1527169</td>\n",
       "    </tr>\n",
       "    <tr>\n",
       "      <th>245</th>\n",
       "      <td>2024-12-31</td>\n",
       "      <td>4030.549561</td>\n",
       "      <td>4074.991267</td>\n",
       "      <td>3968.784155</td>\n",
       "      <td>4070.118744</td>\n",
       "      <td>1555429</td>\n",
       "    </tr>\n",
       "  </tbody>\n",
       "</table>\n",
       "<p>246 rows × 6 columns</p>\n",
       "</div>"
      ],
      "text/plain": [
       "           Date        Close         High          Low         Open   Volume\n",
       "0    2024-01-01  3689.464600  3709.697458  3652.580509  3669.037935   825907\n",
       "1    2024-01-02  3662.455078  3689.464762  3647.014187  3689.464762  1344068\n",
       "2    2024-01-03  3573.923584  3651.467196  3569.373637  3646.771894  1803075\n",
       "3    2024-01-04  3549.770264  3600.304198  3534.474490  3583.604750  3598144\n",
       "4    2024-01-05  3618.600586  3628.136307  3557.563087  3557.708205  1963127\n",
       "..          ...          ...          ...          ...          ...      ...\n",
       "241  2024-12-24  4113.920410  4151.816315  4093.052862  4093.052862  1181886\n",
       "242  2024-12-26  4103.683594  4134.049629  4078.140578  4113.920313  1208464\n",
       "243  2024-12-27  4099.500488  4115.347963  4082.176549  4097.679420   858100\n",
       "244  2024-12-30  4093.545166  4133.409691  4047.479685  4085.867746  1527169\n",
       "245  2024-12-31  4030.549561  4074.991267  3968.784155  4070.118744  1555429\n",
       "\n",
       "[246 rows x 6 columns]"
      ]
     },
     "execution_count": 10,
     "metadata": {},
     "output_type": "execute_result"
    }
   ],
   "source": [
    "df1"
   ]
  },
  {
   "cell_type": "markdown",
   "id": "53cd6dae-2a0a-4009-9435-9f51e1396997",
   "metadata": {},
   "source": [
    "## Data Cleaning & Processing\n",
    "1. Are there any missing values in the dataset?\n",
    "\n",
    "2. Do we have any duplicate dates, and how do we handle them?\n",
    "\n",
    "3. saw dataypes and change according to data\n",
    "\n",
    " \n"
   ]
  },
  {
   "cell_type": "code",
   "execution_count": 12,
   "id": "caf18527-36d4-43ce-8be6-4980260551c8",
   "metadata": {},
   "outputs": [
    {
     "data": {
      "text/plain": [
       "Date      0\n",
       "Close     0\n",
       "High      0\n",
       "Low       0\n",
       "Open      0\n",
       "Volume    0\n",
       "dtype: int64"
      ]
     },
     "execution_count": 12,
     "metadata": {},
     "output_type": "execute_result"
    }
   ],
   "source": [
    "#Are there any missing values in the dataset?\n",
    "df1.isnull().sum()"
   ]
  },
  {
   "cell_type": "code",
   "execution_count": 13,
   "id": "ee9e9933-f5b6-4b59-828c-45332e3527fd",
   "metadata": {},
   "outputs": [
    {
     "data": {
      "text/plain": [
       "0"
      ]
     },
     "execution_count": 13,
     "metadata": {},
     "output_type": "execute_result"
    }
   ],
   "source": [
    "#Do we have any duplicate dates, and how do we handle them?\n",
    "df1.duplicated().sum()"
   ]
  },
  {
   "cell_type": "code",
   "execution_count": 14,
   "id": "6bd14730-d3e6-4ee7-8270-7073b941840f",
   "metadata": {},
   "outputs": [],
   "source": [
    "# 3. saw dataypes and change according to data\n",
    "df1[\"Date\"]=pd.to_datetime(df1[\"Date\"])\n"
   ]
  },
  {
   "cell_type": "code",
   "execution_count": 15,
   "id": "dcaa2dea-b400-4758-b9d5-15fa790e9d43",
   "metadata": {},
   "outputs": [
    {
     "data": {
      "text/plain": [
       "Index(['Date', 'Close', 'High', 'Low', 'Open', 'Volume'], dtype='object')"
      ]
     },
     "execution_count": 15,
     "metadata": {},
     "output_type": "execute_result"
    }
   ],
   "source": [
    "df1.columns"
   ]
  },
  {
   "cell_type": "code",
   "execution_count": 16,
   "id": "cdb896a1-219a-436f-a691-cbbe88e83ce6",
   "metadata": {},
   "outputs": [],
   "source": [
    "price_col=['Close', 'High', 'Low', 'Open']"
   ]
  },
  {
   "cell_type": "code",
   "execution_count": 17,
   "id": "f38afbff-f75d-4369-949a-d220dcb3bebc",
   "metadata": {},
   "outputs": [
    {
     "data": {
      "text/html": [
       "<div>\n",
       "<style scoped>\n",
       "    .dataframe tbody tr th:only-of-type {\n",
       "        vertical-align: middle;\n",
       "    }\n",
       "\n",
       "    .dataframe tbody tr th {\n",
       "        vertical-align: top;\n",
       "    }\n",
       "\n",
       "    .dataframe thead th {\n",
       "        text-align: right;\n",
       "    }\n",
       "</style>\n",
       "<table border=\"1\" class=\"dataframe\">\n",
       "  <thead>\n",
       "    <tr style=\"text-align: right;\">\n",
       "      <th></th>\n",
       "      <th>Date</th>\n",
       "      <th>Close</th>\n",
       "      <th>High</th>\n",
       "      <th>Low</th>\n",
       "      <th>Open</th>\n",
       "      <th>Volume</th>\n",
       "    </tr>\n",
       "  </thead>\n",
       "  <tbody>\n",
       "    <tr>\n",
       "      <th>0</th>\n",
       "      <td>2024-01-01</td>\n",
       "      <td>-1.331379</td>\n",
       "      <td>-1.405249</td>\n",
       "      <td>-1.351347</td>\n",
       "      <td>-1.420098</td>\n",
       "      <td>825907</td>\n",
       "    </tr>\n",
       "    <tr>\n",
       "      <th>1</th>\n",
       "      <td>2024-01-02</td>\n",
       "      <td>-1.445708</td>\n",
       "      <td>-1.490425</td>\n",
       "      <td>-1.375167</td>\n",
       "      <td>-1.333520</td>\n",
       "      <td>1344068</td>\n",
       "    </tr>\n",
       "    <tr>\n",
       "      <th>2</th>\n",
       "      <td>2024-01-03</td>\n",
       "      <td>-1.820455</td>\n",
       "      <td>-1.650388</td>\n",
       "      <td>-1.707414</td>\n",
       "      <td>-1.514471</td>\n",
       "      <td>1803075</td>\n",
       "    </tr>\n",
       "    <tr>\n",
       "      <th>3</th>\n",
       "      <td>2024-01-04</td>\n",
       "      <td>-1.922694</td>\n",
       "      <td>-1.865774</td>\n",
       "      <td>-1.856758</td>\n",
       "      <td>-1.782200</td>\n",
       "      <td>3598144</td>\n",
       "    </tr>\n",
       "    <tr>\n",
       "      <th>4</th>\n",
       "      <td>2024-01-05</td>\n",
       "      <td>-1.631341</td>\n",
       "      <td>-1.748606</td>\n",
       "      <td>-1.757955</td>\n",
       "      <td>-1.891961</td>\n",
       "      <td>1963127</td>\n",
       "    </tr>\n",
       "  </tbody>\n",
       "</table>\n",
       "</div>"
      ],
      "text/plain": [
       "        Date     Close      High       Low      Open   Volume\n",
       "0 2024-01-01 -1.331379 -1.405249 -1.351347 -1.420098   825907\n",
       "1 2024-01-02 -1.445708 -1.490425 -1.375167 -1.333520  1344068\n",
       "2 2024-01-03 -1.820455 -1.650388 -1.707414 -1.514471  1803075\n",
       "3 2024-01-04 -1.922694 -1.865774 -1.856758 -1.782200  3598144\n",
       "4 2024-01-05 -1.631341 -1.748606 -1.757955 -1.891961  1963127"
      ]
     },
     "execution_count": 17,
     "metadata": {},
     "output_type": "execute_result"
    }
   ],
   "source": [
    "# Can we normalize the stock price values for easier comparison?\n",
    "from sklearn.preprocessing import StandardScaler\n",
    "scaler=StandardScaler()\n",
    "df_stand=df1.copy()\n",
    "df_stand[price_col]=scaler.fit_transform(df1[price_col])\n",
    "df_stand.head()\n",
    "\n"
   ]
  },
  {
   "cell_type": "code",
   "execution_count": 18,
   "id": "63f31e93-ee90-461c-9f9c-258be5d54990",
   "metadata": {},
   "outputs": [
    {
     "data": {
      "text/plain": [
       "<Axes: >"
      ]
     },
     "execution_count": 18,
     "metadata": {},
     "output_type": "execute_result"
    },
    {
     "data": {
      "image/png": "[encoded data removed]",
      "text/plain": [
       "<Figure size 640x480 with 1 Axes>"
      ]
     },
     "metadata": {},
     "output_type": "display_data"
    }
   ],
   "source": [
    "sns.boxplot(price_col)"
   ]
  },
  {
   "cell_type": "markdown",
   "id": "9e34f676-08b8-4df8-9a4b-01d91256271c",
   "metadata": {},
   "source": [
    " ## Statistics & Insights\n",
    "What is the average closing price of TCS stock?\n",
    "\n",
    "What is the highest and lowest closing price recorded?\n",
    "\n",
    "On which date did the highest stock closing occur monthly?\n",
    "\n",
    "What is the average daily price change (High - Low)?\n",
    "\n",
    " The total number of shares traded on monthly (Volume).\n",
    "\n",
    "What is the correlation between opening and closing prices?\n",
    "\n",
    "What is the most volatile trading day (highest difference between High & Low)?\n"
   ]
  },
  {
   "cell_type": "code",
   "execution_count": 20,
   "id": "32ff4c7e-54cd-4f04-a49f-13114168e55d",
   "metadata": {},
   "outputs": [
    {
     "name": "stdout",
     "output_type": "stream",
     "text": [
      "average of closing: 4003.99\n"
     ]
    }
   ],
   "source": [
    "#What is the average closing price of TCS stock?\n",
    "avg_closing=df1[\"Close\"].mean()\n",
    "print(f\"average of closing: {avg_closing:.2f}\")\n",
    "\n"
   ]
  },
  {
   "cell_type": "code",
   "execution_count": 21,
   "id": "eda9c36e-ae06-405c-92a7-0c087ee4aae6",
   "metadata": {},
   "outputs": [
    {
     "name": "stdout",
     "output_type": "stream",
     "text": [
      "Highest Closing : 4471.39013671875\n",
      "lowest closing : 3549.770263671875\n"
     ]
    }
   ],
   "source": [
    "#What is the highest and lowest closing price recorded?\n",
    "highest=df1[\"Close\"].max()\n",
    "print(f\"Highest Closing : {highest}\")\n",
    "\n",
    "lowest=df1[\"Close\"].min()\n",
    "print(f\"lowest closing : {lowest}\")"
   ]
  },
  {
   "cell_type": "code",
   "execution_count": 22,
   "id": "82b38df7-4998-4bb8-99da-560bff03ebd6",
   "metadata": {},
   "outputs": [
    {
     "data": {
      "text/plain": [
       "Date\n",
       "2024-08    4471.390137\n",
       "2024-09    4440.803223\n",
       "2024-12    4403.701172\n",
       "2024-07    4308.490723\n",
       "2024-11    4284.403320\n",
       "2024-10    4210.348145\n",
       "2024-03    4103.514648\n",
       "2024-02    4035.677979\n",
       "2024-04    3893.488281\n",
       "2024-05    3869.806152\n",
       "2024-06    3854.044678\n",
       "2024-01    3834.891357\n",
       "Freq: M, Name: Close, dtype: float64"
      ]
     },
     "execution_count": 22,
     "metadata": {},
     "output_type": "execute_result"
    }
   ],
   "source": [
    "#On which date did the highest stock closing occur monthly?\n",
    "monthly=df1[\"Date\"].dt.to_period(\"M\")\n",
    "g=df1.groupby(monthly)[\"Close\"].max().sort_values(ascending=False)\n",
    "g\n",
    "\n",
    "\n"
   ]
  },
  {
   "cell_type": "code",
   "execution_count": 23,
   "id": "83401be0-8abd-4968-8874-039d68704fbd",
   "metadata": {},
   "outputs": [
    {
     "name": "stdout",
     "output_type": "stream",
     "text": [
      "average daily change : 0   -258.669786\n",
      "1   -278.902483\n",
      "2   -316.900049\n",
      "3   -368.063046\n",
      "4   -340.230938\n",
      "Name: High, dtype: float64\n"
     ]
    }
   ],
   "source": [
    "# What is the average daily price change (High - Low)?\n",
    "avg_daily=df1[\"High\"]-df1[\"Low\"].mean()\n",
    "print(f\"average daily change : {avg_daily.head()}\")"
   ]
  },
  {
   "cell_type": "code",
   "execution_count": 24,
   "id": "d3dbaf65-7a15-4f3c-855f-f194372fff2d",
   "metadata": {},
   "outputs": [
    {
     "data": {
      "text/plain": [
       "Date\n",
       "2024-07    69792747\n",
       "2024-03    57449760\n",
       "2024-10    51094057\n",
       "2024-04    50101987\n",
       "2024-06    49068284\n",
       "2024-05    48397883\n",
       "2024-01    47730057\n",
       "2024-09    46733974\n",
       "2024-12    44350531\n",
       "2024-08    44299362\n",
       "2024-02    43410829\n",
       "2024-11    41293329\n",
       "Freq: M, Name: Volume, dtype: int64"
      ]
     },
     "execution_count": 24,
     "metadata": {},
     "output_type": "execute_result"
    }
   ],
   "source": [
    "# The total number of shares traded on monthly (Volume).\n",
    "total_volumn=df1[\"Volume\"].sum()\n",
    "total_volumn\n",
    "group=df1.groupby(monthly)[\"Volume\"].sum().sort_values(ascending=False)\n",
    "group"
   ]
  },
  {
   "cell_type": "code",
   "execution_count": 25,
   "id": "c0c6933d-a48a-4f38-aaf6-8a0aaaa394d5",
   "metadata": {},
   "outputs": [
    {
     "name": "stdout",
     "output_type": "stream",
     "text": [
      "correlation : 0.9785986715269455\n"
     ]
    }
   ],
   "source": [
    "# What is the correlation between opening and closing prices?\n",
    "corr=df1[\"Open\"].corr(df1[\"Close\"])\n",
    "print(f\"correlation : {corr}\")"
   ]
  },
  {
   "cell_type": "code",
   "execution_count": 26,
   "id": "e32697b3-62dc-4c95-8116-89f49c615881",
   "metadata": {},
   "outputs": [
    {
     "data": {
      "text/plain": [
       "Date\n",
       "2024-01-01     57.116949\n",
       "2024-01-02     42.450575\n",
       "2024-01-03     82.093558\n",
       "2024-01-04     65.829708\n",
       "2024-01-05     70.573219\n",
       "                 ...    \n",
       "2024-12-24     58.763453\n",
       "2024-12-26     55.909051\n",
       "2024-12-27     33.171414\n",
       "2024-12-30     85.930006\n",
       "2024-12-31    106.207112\n",
       "Name: volatile, Length: 246, dtype: float64"
      ]
     },
     "execution_count": 26,
     "metadata": {},
     "output_type": "execute_result"
    }
   ],
   "source": [
    "# What is the most volatile trading day (highest difference between High & Low)?\n",
    "df1[\"volatile\"]=df1[\"High\"]-df1[\"Low\"] #Volatility refers to how much a stock's price fluctuates in a given period\n",
    "gro=df1.groupby(\"Date\")[\"volatile\"].sum()\n",
    "gro"
   ]
  },
  {
   "cell_type": "code",
   "execution_count": null,
   "id": "3aea3d33-8e99-4600-a5d1-f818e4a573fe",
   "metadata": {},
   "outputs": [],
   "source": []
  },
  {
   "cell_type": "markdown",
   "id": "a2db2749-df0b-4012-bb21-5f78dd713b05",
   "metadata": {},
   "source": [
    "## Visualization-Based Questions\n",
    "Can we plot a line chart showing stock price trends over time?\n",
    "\n",
    "Can we visualize a candlestick chart for TCS stock?\n",
    "\n",
    "How does the 7-day and 30-day moving average trend compare to the actual closing price?\n",
    "\n",
    "Can we plot a histogram of trading volume to see distribution?\n",
    "\n",
    "How does stock volatility (High - Low) change over time?"
   ]
  },
  {
   "cell_type": "code",
   "execution_count": 28,
   "id": "1a4b37bd-7917-4df6-a200-deabd3338f74",
   "metadata": {},
   "outputs": [
    {
     "data": {
      "image/png": "[encoded data removed]",
      "text/plain": [
       "<Figure size 1000x600 with 1 Axes>"
      ]
     },
     "metadata": {},
     "output_type": "display_data"
    }
   ],
   "source": [
    "plt.figure(figsize=(10,6))\n",
    "sns.lineplot(df1,x=\"Date\",y='Low',label=(\"Low\"))\n",
    "plt.plot(df1[\"Date\"],df1[\"High\"],label=(\"High\"))\n",
    "plt.legend()\n",
    "plt.xticks(rotation=90)\n",
    "plt.savefig(\"line.png\", dpi=300, bbox_inches='tight')\n",
    "plt.grid()"
   ]
  },
  {
   "cell_type": "code",
   "execution_count": 82,
   "id": "fe76925f-999f-41c9-bd3c-99aabe77cd48",
   "metadata": {},
   "outputs": [
    {
     "name": "stdout",
     "output_type": "stream",
     "text": [
      "Requirement already satisfied: kaleido in c:\\users\\hkoli\\anaconda3\\lib\\site-packages (0.2.1)\n"
     ]
    }
   ],
   "source": [
    "!pip install -U kaleido"
   ]
  },
  {
   "cell_type": "code",
   "execution_count": 90,
   "id": "2699551f-1a5d-4464-b116-277dc465c5c5",
   "metadata": {},
   "outputs": [
    {
     "name": "stdout",
     "output_type": "stream",
     "text": [
      "Kaleido is installed and working!\n"
     ]
    }
   ],
   "source": [
    "import kaleido\n",
    "print(\"Kaleido is installed and working!\")\n"
   ]
  },
  {
   "cell_type": "code",
   "execution_count": 94,
   "id": "4c11cae2-4f79-4d57-be62-cbf290fe7893",
   "metadata": {},
   "outputs": [
    {
     "data": {
      "application/vnd.plotly.v1+json": {
       "config": {
        "plotlyServerURL": "https://plot.ly"
       },
       "data": [
        {
         "close": [
          3689.464599609375,
          3662.455078125,
          3573.923583984375,
          3549.770263671875,
          3618.6005859375,
          3560.902587890625,
          3572.132568359375,
          3594.5439453125,
          3616.32568359375,
          3758.8759765625,
          3779.2060546875,
          3738.0625,
          3760.618896484375,
          3778.04443359375,
          3834.891357421875,
          3752.4169921875,
          3736.418212890625,
          3705.782470703125,
          3696.7373046875,
          3696.2998046875,
          3711.27734375,
          3748.429443359375,
          3857.503173828125,
          3864.31103515625,
          4022.548095703125,
          3971.390625,
          4020.70068359375,
          4020.3115234375,
          4007.668212890625,
          4035.677978515625,
          3987.63330078125,
          3990.648193359375,
          4015.0595703125,
          3991.231201171875,
          3920.087646484375,
          3882.011962890625,
          3974.989501953125,
          3940.94970703125,
          3891.300048828125,
          3991.815185546875,
          4005.966064453125,
          3982.770263671875,
          3982.041015625,
          3968.76513671875,
          3902.047119140625,
          3952.81494140625,
          3995.900146484375,
          4009.272705078125,
          4077.255615234375,
          4035.191650390625,
          4092.1845703125,
          4103.5146484375,
          4038.595703125,
          3868.201416015625,
          3861.976806640625,
          3863.970703125,
          3803.622802734375,
          3771.138916015625,
          3735.54296875,
          3769.971923828125,
          3809.3125,
          3777.266357421875,
          3839.024169921875,
          3893.48828125,
          3870.09814453125,
          3863.581787109375,
          3838.294677734375,
          3875.349609375,
          3891.640380859375,
          3833.091796875,
          3766.568115234375,
          3756.064208984375,
          3721.24609375,
          3758.593017578125,
          3768.415771484375,
          3725.96337890625,
          3746.532958984375,
          3716.529296875,
          3764.039306640625,
          3715.84814453125,
          3757.32861328125,
          3737.974365234375,
          3813.494384765625,
          3869.80615234375,
          3867.861083984375,
          3851.5703125,
          3787.0888671875,
          3839.5107421875,
          3794.188720703125,
          3773.959228515625,
          3821.520751953125,
          3756.031982421875,
          3742.414794921875,
          3753.974609375,
          3814.173583984375,
          3771.1181640625,
          3768.71826171875,
          3761.713623046875,
          3726.201904296875,
          3660.027587890625,
          3596.203857421875,
          3627.454345703125,
          3639.357177734375,
          3670.16650390625,
          3752.4072265625,
          3814.663330078125,
          3780.131103515625,
          3773.66552734375,
          3753.6318359375,
          3799.184814453125,
          3754.023681640625,
          3737.4189453125,
          3724.29150390625,
          3710.135986328125,
          3733.157470703125,
          3739.084228515625,
          3760.29345703125,
          3777.339111328125,
          3854.044677734375,
          3824.655517578125,
          3897.19775390625,
          3935.599853515625,
          3884.51171875,
          3939.077392578125,
          3930.11376953125,
          3911.892333984375,
          3904.349365234375,
          3829.5537109375,
          3843.8076171875,
          4098.7587890625,
          4084.308837890625,
          4093.370849609375,
          4227.6787109375,
          4224.5859375,
          4209.80859375,
          4224.537109375,
          4228.3662109375,
          4244.322265625,
          4308.49072265625,
          4301.86279296875,
          4286.3974609375,
          4306.03564453125,
          4317.5732421875,
          4205.5859375,
          4079.900634765625,
          4095.759033203125,
          4124.47998046875,
          4097.08447265625,
          4152.26806640625,
          4119.76611328125,
          4121.04345703125,
          4217.5654296875,
          4336.18017578125,
          4408.79248046875,
          4441.490234375,
          4469.1806640625,
          4420.576171875,
          4383.16455078125,
          4421.017578125,
          4415.8134765625,
          4424.552734375,
          4430.1982421875,
          4471.39013671875,
          4439.28125,
          4430.73876953125,
          4398.2373046875,
          4394.9970703125,
          4376.14453125,
          4369.07421875,
          4426.3203125,
          4398.3359375,
          4435.99169921875,
          4440.80322265625,
          4431.6220703125,
          4424.16015625,
          4267.54443359375,
          4218.44873046875,
          4207.40234375,
          4191.298828125,
          4194.0478515625,
          4197.435546875,
          4214.86474609375,
          4230.77197265625,
          4191.298828125,
          4210.34814453125,
          4156.1953125,
          4175.3427734375,
          4195.5703125,
          4176.32470703125,
          4176.0302734375,
          4150.9423828125,
          4074.156982421875,
          4061.83349609375,
          4042.342529296875,
          4020.8876953125,
          4034.68359375,
          4058.356201171875,
          4015.834228515625,
          3952.493896484375,
          4002.447509765625,
          3984.38525390625,
          3993.884033203125,
          4026.66162109375,
          4011.306396484375,
          4020.55859375,
          3906.18212890625,
          3921.684814453125,
          3901.949462890625,
          3909.03662109375,
          4074.69580078125,
          4085.769287109375,
          4081.930419921875,
          4132.8193359375,
          4131.53955078125,
          4085.22802734375,
          4080.84765625,
          3956.43115234375,
          3976.16650390625,
          4008.944091796875,
          4177.9990234375,
          4247.39306640625,
          4284.4033203125,
          4264.56884765625,
          4178.29443359375,
          4203.83740234375,
          4209.5458984375,
          4235.23681640625,
          4286.076171875,
          4394.00537109375,
          4375.74658203125,
          4382.29248046875,
          4363,
          4357.97998046875,
          4385.048828125,
          4403.701171875,
          4345.92236328125,
          4260.58251953125,
          4279.62890625,
          4204.87060546875,
          4104.86474609375,
          4093.052978515625,
          4113.92041015625,
          4103.68359375,
          4099.50048828125,
          4093.545166015625,
          4030.549560546875
         ],
         "high": [
          3709.697458326463,
          3689.464761591632,
          3651.46719557593,
          3600.3041984290385,
          3628.1363065511255,
          3620.3912884449455,
          3632.5895949671935,
          3610.2268571056234,
          3652.58037661136,
          3780.609411473842,
          3838.452743329957,
          3774.55921663568,
          3785.159682088404,
          3784.0465066802335,
          3854.829038114138,
          3825.991793978989,
          3777.120111192251,
          3755.091708272492,
          3715.216128362602,
          3742.253722811887,
          3728.83227453436,
          3797.7873560173134,
          3875.1065425906513,
          3911.67512958968,
          4036.066718938935,
          4041.026703606434,
          4043.9450055553343,
          4069.961016230209,
          4045.501079810897,
          4055.615657406954,
          4002.027143031753,
          4032.565567628202,
          4034.1709461020446,
          4015.059157963777,
          3985.5903054124697,
          3951.89119090927,
          3982.624031221046,
          4016.7127903511646,
          3938.9072881929615,
          4010.877647617821,
          4040.929659438592,
          4024.590760669227,
          4026.438729341799,
          4004.944682155846,
          3952.523393285034,
          3960.3036803464415,
          4010.877625569365,
          4039.081870716427,
          4113.921685490996,
          4124.668062016544,
          4109.10718896528,
          4122.7228997396605,
          4138.040955537891,
          3946.687741302402,
          3907.78493306345,
          3898.448251153244,
          3829.979536983663,
          3838.440690058343,
          3788.159085948257,
          3807.6103232125056,
          3825.408576562606,
          3802.601846327223,
          3871.7997191513855,
          3918.142780385877,
          3892.224106154191,
          3922.033083278546,
          3905.69379982652,
          3880.747418488778,
          3903.262778963109,
          3952.717874429233,
          3820.934668415037,
          3828.034367312921,
          3746.873400013286,
          3771.6253567885888,
          3788.158983895616,
          3791.07687601712,
          3767.394531605907,
          3770.458238943657,
          3771.4309315368455,
          3775.272245223485,
          3764.914704518402,
          3786.797555112029,
          3831.875856708849,
          3878.6079555993488,
          3875.0095663734273,
          3862.074112296181,
          3864.60285828906,
          3846.513196599001,
          3837.565422637813,
          3819.2323938552713,
          3829.8967089471594,
          3840.182831975143,
          3766.464966935056,
          3763.0362652039976,
          3825.488456831451,
          3804.719810292912,
          3828.770148367113,
          3791.2008363305977,
          3770.5305466531386,
          3717.140322546408,
          3673.4484478197846,
          3675.162690587452,
          3668.7463339475735,
          3706.756096486479,
          3761.713792341841,
          3835.2847685577945,
          3826.369993755079,
          3800.9483158199455,
          3814.2225740099775,
          3810.7936259222743,
          3809.814045191037,
          3763.7711253531625,
          3755.787024052229,
          3732.373732906952,
          3798.8422809619256,
          3778.465647895979,
          3769.3060836478994,
          3788.212954904168,
          3861.734935564597,
          3879.368422948388,
          3920.219258189819,
          3941.477684872996,
          3944.122819546365,
          3964.939992570708,
          3944.759317225375,
          3949.167626015467,
          3925.362563890056,
          3921.786818355145,
          3898.9613137562046,
          4114.4330054282855,
          4153.667049168463,
          4109.142647435194,
          4236.93648604033,
          4279.916877333292,
          4241.819082313878,
          4282.8137917236645,
          4260.622174468574,
          4264.4514978853385,
          4342.465037283493,
          4350.860197383269,
          4318.456850304975,
          4334.167378134563,
          4339.371440757876,
          4318.457126714295,
          4162.332487870675,
          4181.23443768936,
          4168.175144224216,
          4155.459443240806,
          4176.717624634707,
          4162.332168001852,
          4157.423172797769,
          4228.317578037032,
          4346.932323500371,
          4412.965613662957,
          4482.436229168461,
          4477.52693136878,
          4478.46018536363,
          4424.503214207465,
          4469.818401872383,
          4428.431164573309,
          4479.981963267699,
          4473.599021489441,
          4509.193819455762,
          4505.0205715236125,
          4473.500923144872,
          4405.847136492228,
          4417.629990620445,
          4437.219764224585,
          4409.03830092537,
          4457.83984203426,
          4467.06990758778,
          4450.622117409099,
          4464.761822271718,
          4463.828648356052,
          4453.7647636995625,
          4415.715125527233,
          4342.219248359466,
          4252.374283438895,
          4231.459004478235,
          4213.39174349326,
          4212.017061063411,
          4238.725058292773,
          4298.818403851764,
          4221.001718965056,
          4218.056263856357,
          4201.608822204832,
          4220.26532782277,
          4219.528912395065,
          4202.001656010186,
          4217.319554831079,
          4216.19074786921,
          4165.229488527156,
          4090.063516948677,
          4094.531631187995,
          4040.5751141050914,
          4055.254878567037,
          4081.0938417563607,
          4074.991311135829,
          4025.628123729215,
          4049.0051452980897,
          4014.9973672208257,
          4027.7934387000982,
          4069.134469419595,
          4039.113133666311,
          4042.55800112918,
          4014.308599846557,
          3936.203375700577,
          3929.264044897525,
          3923.456655426901,
          4084.686443814856,
          4139.80777036327,
          4104.323455140882,
          4167.860359857493,
          4151.816417459889,
          4130.899880816483,
          4094.7265129104985,
          4146.894998090364,
          4067.3133968435623,
          4028.236409232463,
          4188.186720017956,
          4260.189087034664,
          4298.085123579749,
          4308.71521363045,
          4271.853320530873,
          4231.250512031332,
          4220.914958216208,
          4257.137698206271,
          4318.115726856116,
          4418.564078323639,
          4394.940611577895,
          4399.271815609351,
          4423.288944687637,
          4378.847047235939,
          4414.627129801404,
          4424.371666662094,
          4404.783863782896,
          4363.393811274363,
          4293.556785484744,
          4295.525583873814,
          4313.24321027579,
          4150.832123971284,
          4151.816315358072,
          4134.049628782047,
          4115.347963377728,
          4133.409691121346,
          4074.9912673216186
         ],
         "low": [
          3652.580508942,
          3647.014186705242,
          3569.3736371199507,
          3534.474490041522,
          3557.563087302939,
          3555.190751823353,
          3565.2108632457825,
          3570.293396528936,
          3588.6868423266137,
          3699.629292897656,
          3761.006029719265,
          3732.496017441484,
          3690.868402661563,
          3738.7401315604266,
          3807.6594033056126,
          3737.342162049768,
          3701.211238257574,
          3675.049172415224,
          3677.140120872728,
          3683.1214378212753,
          3692.312234372478,
          3700.676413185152,
          3765.7898054070656,
          3853.41830257255,
          3880.552925980529,
          3962.199889733255,
          3973.9686597901937,
          3987.5357348811417,
          3992.933401804451,
          3969.543238778533,
          3938.42117677672,
          3971.002095413332,
          3987.633387876024,
          3943.769991476078,
          3900.004178795511,
          3871.411048123551,
          3862.0740708816,
          3935.4058698837393,
          3873.5019758149424,
          3889.306428909715,
          3976.8374126470994,
          3953.058211921048,
          3974.698066588772,
          3964.096754658917,
          3870.827535746663,
          3849.86834727239,
          3926.944809145925,
          3976.837411355519,
          4008.00845770711,
          4018.560613686994,
          3973.919993872695,
          4062.4235791961696,
          4004.896257798288,
          3857.794967981477,
          3851.570358663032,
          3839.705136843681,
          3749.256250653129,
          3765.254821991244,
          3724.358416891616,
          3735.153881557504,
          3781.399796164316,
          3766.76255686981,
          3745.365666529009,
          3827.304866462404,
          3851.862461874981,
          3851.375989955484,
          3817.3844309237984,
          3810.527936369096,
          3837.273828513629,
          3811.549472195389,
          3756.8910938649233,
          3744.393372498665,
          3696.6400331481454,
          3707.4357555642346,
          3754.702681171968,
          3719.544323594792,
          3706.463134746145,
          3698.2449391305313,
          3714.438250607191,
          3705.490372718872,
          3674.417045390118,
          3693.430862032895,
          3747.310970665456,
          3806.151513098809,
          3830.563177847568,
          3802.796039124029,
          3778.481768246644,
          3763.844771387645,
          3786.11634501382,
          3769.1937321404057,
          3765.240568062004,
          3752.0153689961217,
          3732.471560226369,
          3739.8188813463134,
          3747.607193753832,
          3766.024092022885,
          3763.134370217548,
          3752.015297970592,
          3722.6263194210433,
          3639.797908853329,
          3579.354123272811,
          3620.743726624221,
          3518.3718179900425,
          3624.662344736642,
          3665.317459305752,
          3759.1669041268415,
          3763.673128570854,
          3762.7914444244025,
          3749.5174019913065,
          3773.5673642808742,
          3750.05609796639,
          3717.777145509997,
          3715.7196673389967,
          3703.082636815265,
          3720.716109397647,
          3714.103447073741,
          3715.670874281783,
          3762.791384299501,
          3740.357822070456,
          3818.4839864227138,
          3804.915856909854,
          3901.45959321664,
          3874.4704237201313,
          3901.018580221167,
          3906.798325472104,
          3897.050906666984,
          3894.1612201799726,
          3822.5493913955625,
          3816.279918247893,
          3890.4385136742408,
          4072.405847991194,
          4060.503689582387,
          4075.296134549774,
          4207.746211320331,
          4187.862722514556,
          4189.13882773974,
          4190.906296157616,
          4196.896022372138,
          4258.60921210032,
          4291.945367357768,
          4249.035353541636,
          4266.415328045917,
          4286.102617400063,
          4192.772153494779,
          4036.1565679151713,
          4085.546746125882,
          4104.694033994683,
          4084.7616455297134,
          4129.487474001761,
          4110.634507665087,
          4107.345567268085,
          4112.40236132334,
          4246.875404760914,
          4310.94487687575,
          4418.611835982054,
          4411.29665372891,
          4415.863177154606,
          4374.425614579285,
          4403.882992094799,
          4405.650573010988,
          4376.684433945564,
          4379.335301984835,
          4406.63272736712,
          4430.395121777363,
          4414.586095966468,
          4356.457065075125,
          4373.591062750139,
          4359.697474336681,
          4350.3689532319695,
          4360.139416875328,
          4390.38233935696,
          4351.153972266564,
          4423.521444762281,
          4413.162284266815,
          4385.227366985309,
          4242.84939817985,
          4204.35817203477,
          4151.040587546543,
          4176.0791650499295,
          4163.314144118252,
          4163.314046143049,
          4182.952549413949,
          4222.2780351461415,
          4183.001465184691,
          4166.211406289576,
          4133.85677529384,
          4147.652613708516,
          4152.905967774814,
          4127.916550358536,
          4169.893312502065,
          4122.663456603558,
          4038.0716498141214,
          4047.645129803671,
          4020.937000293908,
          3993.639588528437,
          4018.9238301370233,
          4015.981878743336,
          4006.138686185549,
          3943.487562735876,
          3932.463025582815,
          3941.174174638928,
          3969.42385229137,
          3987.436801068887,
          3996.394207004564,
          3996.344730916741,
          3897.864763520815,
          3913.662790294584,
          3851.848217603721,
          3879.261266395641,
          3912.87545183105,
          4020.952665320235,
          4053.0408475923055,
          4053.04078486624,
          4099.00832230913,
          4066.2305702818967,
          4051.860036976369,
          3927.5908423676874,
          3951.115881398178,
          3960.860488009095,
          3990.389589438143,
          4185.480108874261,
          4242.373120582253,
          4256.202219033572,
          4166.581249097751,
          4129.817151927626,
          4163.676993000992,
          4198.522271973675,
          4221.751465216019,
          4291.588189238375,
          4343.510455484962,
          4346.266664568218,
          4342.871163165953,
          4337.850664985335,
          4356.552882162991,
          4325.448584466717,
          4328.007742805228,
          4250.247272573856,
          4222.2928946144,
          4195.126039979421,
          4087.344233379785,
          4050.3340530174855,
          4093.0528623167015,
          4078.140577688001,
          4082.176549305344,
          4047.479684808028,
          3968.7841551770334
         ],
         "name": "TCS Stock",
         "open": [
          3669.037935035828,
          3689.464761591632,
          3646.771894323597,
          3583.6047503454406,
          3557.7082053433087,
          3618.600238926273,
          3591.542697173614,
          3572.229564314473,
          3605.1442678242,
          3725.18661170254,
          3833.612323729289,
          3774.55921663568,
          3697.1124966863217,
          3773.591152983569,
          3836.7878210233553,
          3793.0217765907473,
          3773.570326867422,
          3734.570392097221,
          3696.542838242831,
          3703.010440610695,
          3706.657637619578,
          3715.216282824203,
          3768.7561904233226,
          3873.744913265961,
          3887.360913569969,
          4039.081564398922,
          3977.81026279974,
          4023.082967148053,
          4016.712921281345,
          4012.287867137159,
          3994.3439370346928,
          4014.7677320269977,
          4000.422585306404,
          4009.9531672226553,
          3970.12654342168,
          3902.922211469392,
          3862.0740708816,
          4016.7127903511646,
          3925.291312381924,
          3889.306428909715,
          3983.2564674982855,
          3986.5631905150553,
          3994.538631779336,
          3992.398627973585,
          3950.578253819836,
          3884.491922362945,
          3953.496010654576,
          3976.837411355519,
          4009.2730833397145,
          4089.655553119445,
          4039.5200133888384,
          4077.595761278169,
          4099.624452160784,
          3940.1228959958985,
          3876.662703631386,
          3880.6017398046433,
          3790.1041786758087,
          3768.707491827349,
          3781.8373827239534,
          3744.490645526798,
          3790.7849991059966,
          3783.29624224724,
          3745.365666529009,
          3866.83972932028,
          3868.8824323541658,
          3873.7450929274473,
          3874.717362480791,
          3847.874516418791,
          3862.0743563623423,
          3891.640447506282,
          3794.967103992823,
          3770.458288138839,
          3732.722463560279,
          3731.749998452248,
          3770.7014052583295,
          3783.296318036582,
          3706.657601197812,
          3749.401962592489,
          3732.722608947488,
          3765.789691120071,
          3674.417045390118,
          3783.4419996244737,
          3747.310970665456,
          3822.977016362857,
          3852.348644505229,
          3853.320985373324,
          3853.904592133325,
          3777.947032158994,
          3828.0341924544327,
          3797.3982523912314,
          3811.871456246998,
          3839.203193497598,
          3752.603178401787,
          3756.913524779,
          3762.742561197269,
          3799.282769132457,
          3776.506339799602,
          3779.445174822596,
          3770.5305466531386,
          3700.094707884028,
          3663.847942809528,
          3656.794469571704,
          3624.662599627776,
          3640.336560281449,
          3704.013180177749,
          3759.1669041268415,
          3815.692029571215,
          3766.7099983889166,
          3795.511382627863,
          3778.269676743172,
          3809.814045191037,
          3748.145939077396,
          3749.7130742346512,
          3718.7078233814937,
          3749.0765965704554,
          3731.198090853983,
          3739.280258455972,
          3766.220118963664,
          3752.995062949765,
          3838.027726477141,
          3804.915856909854,
          3912.284647133711,
          3938.146928787592,
          3918.407163657249,
          3928.350372402993,
          3940.1059700674,
          3903.859545968883,
          3902.585808266167,
          3850.9590262250354,
          3898.961320989225,
          4149.454795147631,
          4087.051989689471,
          4075.296134549774,
          4239.3146448495845,
          4222.18080459986,
          4205.536980663162,
          4209.955327580733,
          4217.319636983082,
          4271.325188060915,
          4335.149576043135,
          4311.681741041037,
          4271.32489689292,
          4319.831452135074,
          4286.053969556137,
          4162.332487870675,
          4095.513554753193,
          4151.531513665411,
          4105.381836528783,
          4140.730579021024,
          4153.494944715224,
          4136.802982285547,
          4132.875360818273,
          4271.32496210224,
          4341.040435668673,
          4423.5214046887,
          4436.286551737751,
          4477.527175422035,
          4418.611731898268,
          4407.810646937247,
          4423.521595654713,
          4417.384955013821,
          4379.335301984835,
          4418.6122679625305,
          4493.237605774205,
          4439.281131802064,
          4395.979094770648,
          4399.955543002937,
          4393.033641173875,
          4374.425840570686,
          4362.103244516713,
          4439.674606828533,
          4428.676250398551,
          4448.069288517899,
          4445.123383881834,
          4431.622797592129,
          4415.715125527233,
          4310.650337218327,
          4238.8235853352135,
          4222.22911114853,
          4174.753342987435,
          4175.44077610614,
          4182.952549413949,
          4256.596112539378,
          4209.365945175714,
          4178.583136778167,
          4185.505533031941,
          4148.5856235577485,
          4196.601130169736,
          4195.324834210528,
          4182.952573592642,
          4176.324950925273,
          4068.068925004607,
          4065.123003109471,
          4056.3348009096194,
          4011.1177013655647,
          4038.414674215347,
          4025.824971583393,
          4067.756541954516,
          4002.201514906106,
          3936.8433940172417,
          3941.174174638928,
          3993.391878579628,
          4005.105104174324,
          4031.583263792324,
          4011.060105819676,
          4006.1387847297274,
          3927.2463058287503,
          3904.0658719887983,
          3879.261266395641,
          3940.780715946805,
          4104.274589912992,
          4089.8048938450415,
          4063.425535563547,
          4149.847798959433,
          4112.542609268491,
          4070.118781462719,
          4146.894998090364,
          3956.8246828361807,
          3981.432455552984,
          4007.122846226611,
          4212.843714585579,
          4253.249546195695,
          4290.55499634484,
          4251.23184853607,
          4153.785179120677,
          4203.000338296886,
          4246.654900345047,
          4245.867042233743,
          4331.747813073262,
          4383.128901087652,
          4360.933257388377,
          4356.700516597411,
          4362.310844845357,
          4360.539142507212,
          4365.362613963178,
          4389.034915890042,
          4340.8037221053055,
          4244.046224337432,
          4214.812225056753,
          4261.074819097192,
          4134.147889868673,
          4093.0528623167015,
          4113.920313335754,
          4097.679420039338,
          4085.8677460209447,
          4070.118744291556
         ],
         "type": "candlestick",
         "x": [
          "2024-01-01T00:00:00",
          "2024-01-02T00:00:00",
          "2024-01-03T00:00:00",
          "2024-01-04T00:00:00",
          "2024-01-05T00:00:00",
          "2024-01-08T00:00:00",
          "2024-01-09T00:00:00",
          "2024-01-10T00:00:00",
          "2024-01-11T00:00:00",
          "2024-01-12T00:00:00",
          "2024-01-15T00:00:00",
          "2024-01-16T00:00:00",
          "2024-01-17T00:00:00",
          "2024-01-18T00:00:00",
          "2024-01-19T00:00:00",
          "2024-01-23T00:00:00",
          "2024-01-24T00:00:00",
          "2024-01-25T00:00:00",
          "2024-01-29T00:00:00",
          "2024-01-30T00:00:00",
          "2024-01-31T00:00:00",
          "2024-02-01T00:00:00",
          "2024-02-02T00:00:00",
          "2024-02-05T00:00:00",
          "2024-02-06T00:00:00",
          "2024-02-07T00:00:00",
          "2024-02-08T00:00:00",
          "2024-02-09T00:00:00",
          "2024-02-12T00:00:00",
          "2024-02-13T00:00:00",
          "2024-02-14T00:00:00",
          "2024-02-15T00:00:00",
          "2024-02-16T00:00:00",
          "2024-02-19T00:00:00",
          "2024-02-20T00:00:00",
          "2024-02-21T00:00:00",
          "2024-02-22T00:00:00",
          "2024-02-23T00:00:00",
          "2024-02-26T00:00:00",
          "2024-02-27T00:00:00",
          "2024-02-28T00:00:00",
          "2024-02-29T00:00:00",
          "2024-03-01T00:00:00",
          "2024-03-04T00:00:00",
          "2024-03-05T00:00:00",
          "2024-03-06T00:00:00",
          "2024-03-07T00:00:00",
          "2024-03-11T00:00:00",
          "2024-03-12T00:00:00",
          "2024-03-13T00:00:00",
          "2024-03-14T00:00:00",
          "2024-03-15T00:00:00",
          "2024-03-18T00:00:00",
          "2024-03-19T00:00:00",
          "2024-03-20T00:00:00",
          "2024-03-21T00:00:00",
          "2024-03-22T00:00:00",
          "2024-03-26T00:00:00",
          "2024-03-27T00:00:00",
          "2024-03-28T00:00:00",
          "2024-04-01T00:00:00",
          "2024-04-02T00:00:00",
          "2024-04-03T00:00:00",
          "2024-04-04T00:00:00",
          "2024-04-05T00:00:00",
          "2024-04-08T00:00:00",
          "2024-04-09T00:00:00",
          "2024-04-10T00:00:00",
          "2024-04-12T00:00:00",
          "2024-04-15T00:00:00",
          "2024-04-16T00:00:00",
          "2024-04-18T00:00:00",
          "2024-04-19T00:00:00",
          "2024-04-22T00:00:00",
          "2024-04-23T00:00:00",
          "2024-04-24T00:00:00",
          "2024-04-25T00:00:00",
          "2024-04-26T00:00:00",
          "2024-04-29T00:00:00",
          "2024-04-30T00:00:00",
          "2024-05-02T00:00:00",
          "2024-05-03T00:00:00",
          "2024-05-06T00:00:00",
          "2024-05-07T00:00:00",
          "2024-05-08T00:00:00",
          "2024-05-09T00:00:00",
          "2024-05-10T00:00:00",
          "2024-05-13T00:00:00",
          "2024-05-14T00:00:00",
          "2024-05-15T00:00:00",
          "2024-05-16T00:00:00",
          "2024-05-17T00:00:00",
          "2024-05-21T00:00:00",
          "2024-05-22T00:00:00",
          "2024-05-23T00:00:00",
          "2024-05-24T00:00:00",
          "2024-05-27T00:00:00",
          "2024-05-28T00:00:00",
          "2024-05-29T00:00:00",
          "2024-05-30T00:00:00",
          "2024-05-31T00:00:00",
          "2024-06-03T00:00:00",
          "2024-06-04T00:00:00",
          "2024-06-05T00:00:00",
          "2024-06-06T00:00:00",
          "2024-06-07T00:00:00",
          "2024-06-10T00:00:00",
          "2024-06-11T00:00:00",
          "2024-06-12T00:00:00",
          "2024-06-13T00:00:00",
          "2024-06-14T00:00:00",
          "2024-06-18T00:00:00",
          "2024-06-19T00:00:00",
          "2024-06-20T00:00:00",
          "2024-06-21T00:00:00",
          "2024-06-24T00:00:00",
          "2024-06-25T00:00:00",
          "2024-06-26T00:00:00",
          "2024-06-27T00:00:00",
          "2024-06-28T00:00:00",
          "2024-07-01T00:00:00",
          "2024-07-02T00:00:00",
          "2024-07-03T00:00:00",
          "2024-07-04T00:00:00",
          "2024-07-05T00:00:00",
          "2024-07-08T00:00:00",
          "2024-07-09T00:00:00",
          "2024-07-10T00:00:00",
          "2024-07-11T00:00:00",
          "2024-07-12T00:00:00",
          "2024-07-15T00:00:00",
          "2024-07-16T00:00:00",
          "2024-07-18T00:00:00",
          "2024-07-19T00:00:00",
          "2024-07-22T00:00:00",
          "2024-07-23T00:00:00",
          "2024-07-24T00:00:00",
          "2024-07-25T00:00:00",
          "2024-07-26T00:00:00",
          "2024-07-29T00:00:00",
          "2024-07-30T00:00:00",
          "2024-07-31T00:00:00",
          "2024-08-01T00:00:00",
          "2024-08-02T00:00:00",
          "2024-08-05T00:00:00",
          "2024-08-06T00:00:00",
          "2024-08-07T00:00:00",
          "2024-08-08T00:00:00",
          "2024-08-09T00:00:00",
          "2024-08-12T00:00:00",
          "2024-08-13T00:00:00",
          "2024-08-14T00:00:00",
          "2024-08-16T00:00:00",
          "2024-08-19T00:00:00",
          "2024-08-20T00:00:00",
          "2024-08-21T00:00:00",
          "2024-08-22T00:00:00",
          "2024-08-23T00:00:00",
          "2024-08-26T00:00:00",
          "2024-08-27T00:00:00",
          "2024-08-28T00:00:00",
          "2024-08-29T00:00:00",
          "2024-08-30T00:00:00",
          "2024-09-02T00:00:00",
          "2024-09-03T00:00:00",
          "2024-09-04T00:00:00",
          "2024-09-05T00:00:00",
          "2024-09-06T00:00:00",
          "2024-09-09T00:00:00",
          "2024-09-10T00:00:00",
          "2024-09-11T00:00:00",
          "2024-09-12T00:00:00",
          "2024-09-13T00:00:00",
          "2024-09-16T00:00:00",
          "2024-09-17T00:00:00",
          "2024-09-18T00:00:00",
          "2024-09-19T00:00:00",
          "2024-09-20T00:00:00",
          "2024-09-23T00:00:00",
          "2024-09-24T00:00:00",
          "2024-09-25T00:00:00",
          "2024-09-26T00:00:00",
          "2024-09-27T00:00:00",
          "2024-09-30T00:00:00",
          "2024-10-01T00:00:00",
          "2024-10-03T00:00:00",
          "2024-10-04T00:00:00",
          "2024-10-07T00:00:00",
          "2024-10-08T00:00:00",
          "2024-10-09T00:00:00",
          "2024-10-10T00:00:00",
          "2024-10-11T00:00:00",
          "2024-10-14T00:00:00",
          "2024-10-15T00:00:00",
          "2024-10-16T00:00:00",
          "2024-10-17T00:00:00",
          "2024-10-18T00:00:00",
          "2024-10-21T00:00:00",
          "2024-10-22T00:00:00",
          "2024-10-23T00:00:00",
          "2024-10-24T00:00:00",
          "2024-10-25T00:00:00",
          "2024-10-28T00:00:00",
          "2024-10-29T00:00:00",
          "2024-10-30T00:00:00",
          "2024-10-31T00:00:00",
          "2024-11-01T00:00:00",
          "2024-11-04T00:00:00",
          "2024-11-05T00:00:00",
          "2024-11-06T00:00:00",
          "2024-11-07T00:00:00",
          "2024-11-08T00:00:00",
          "2024-11-11T00:00:00",
          "2024-11-12T00:00:00",
          "2024-11-13T00:00:00",
          "2024-11-14T00:00:00",
          "2024-11-18T00:00:00",
          "2024-11-19T00:00:00",
          "2024-11-21T00:00:00",
          "2024-11-22T00:00:00",
          "2024-11-25T00:00:00",
          "2024-11-26T00:00:00",
          "2024-11-27T00:00:00",
          "2024-11-28T00:00:00",
          "2024-11-29T00:00:00",
          "2024-12-02T00:00:00",
          "2024-12-03T00:00:00",
          "2024-12-04T00:00:00",
          "2024-12-05T00:00:00",
          "2024-12-06T00:00:00",
          "2024-12-09T00:00:00",
          "2024-12-10T00:00:00",
          "2024-12-11T00:00:00",
          "2024-12-12T00:00:00",
          "2024-12-13T00:00:00",
          "2024-12-16T00:00:00",
          "2024-12-17T00:00:00",
          "2024-12-18T00:00:00",
          "2024-12-19T00:00:00",
          "2024-12-20T00:00:00",
          "2024-12-23T00:00:00",
          "2024-12-24T00:00:00",
          "2024-12-26T00:00:00",
          "2024-12-27T00:00:00",
          "2024-12-30T00:00:00",
          "2024-12-31T00:00:00"
         ]
        }
       ],
       "layout": {
        "height": 600,
        "template": {
         "data": {
          "bar": [
           {
            "error_x": {
             "color": "#f2f5fa"
            },
            "error_y": {
             "color": "#f2f5fa"
            },
            "marker": {
             "line": {
              "color": "rgb(17,17,17)",
              "width": 0.5
             },
             "pattern": {
              "fillmode": "overlay",
              "size": 10,
              "solidity": 0.2
             }
            },
            "type": "bar"
           }
          ],
          "barpolar": [
           {
            "marker": {
             "line": {
              "color": "rgb(17,17,17)",
              "width": 0.5
             },
             "pattern": {
              "fillmode": "overlay",
              "size": 10,
              "solidity": 0.2
             }
            },
            "type": "barpolar"
           }
          ],
          "carpet": [
           {
            "aaxis": {
             "endlinecolor": "#A2B1C6",
             "gridcolor": "#506784",
             "linecolor": "#506784",
             "minorgridcolor": "#506784",
             "startlinecolor": "#A2B1C6"
            },
            "baxis": {
             "endlinecolor": "#A2B1C6",
             "gridcolor": "#506784",
             "linecolor": "#506784",
             "minorgridcolor": "#506784",
             "startlinecolor": "#A2B1C6"
            },
            "type": "carpet"
           }
          ],
          "choropleth": [
           {
            "colorbar": {
             "outlinewidth": 0,
             "ticks": ""
            },
            "type": "choropleth"
           }
          ],
          "contour": [
           {
            "colorbar": {
             "outlinewidth": 0,
             "ticks": ""
            },
            "colorscale": [
             [
              0,
              "#0d0887"
             ],
             [
              0.1111111111111111,
              "#46039f"
             ],
             [
              0.2222222222222222,
              "#7201a8"
             ],
             [
              0.3333333333333333,
              "#9c179e"
             ],
             [
              0.4444444444444444,
              "#bd3786"
             ],
             [
              0.5555555555555556,
              "#d8576b"
             ],
             [
              0.6666666666666666,
              "#ed7953"
             ],
             [
              0.7777777777777778,
              "#fb9f3a"
             ],
             [
              0.8888888888888888,
              "#fdca26"
             ],
             [
              1,
              "#f0f921"
             ]
            ],
            "type": "contour"
           }
          ],
          "contourcarpet": [
           {
            "colorbar": {
             "outlinewidth": 0,
             "ticks": ""
            },
            "type": "contourcarpet"
           }
          ],
          "heatmap": [
           {
            "colorbar": {
             "outlinewidth": 0,
             "ticks": ""
            },
            "colorscale": [
             [
              0,
              "#0d0887"
             ],
             [
              0.1111111111111111,
              "#46039f"
             ],
             [
              0.2222222222222222,
              "#7201a8"
             ],
             [
              0.3333333333333333,
              "#9c179e"
             ],
             [
              0.4444444444444444,
              "#bd3786"
             ],
             [
              0.5555555555555556,
              "#d8576b"
             ],
             [
              0.6666666666666666,
              "#ed7953"
             ],
             [
              0.7777777777777778,
              "#fb9f3a"
             ],
             [
              0.8888888888888888,
              "#fdca26"
             ],
             [
              1,
              "#f0f921"
             ]
            ],
            "type": "heatmap"
           }
          ],
          "heatmapgl": [
           {
            "colorbar": {
             "outlinewidth": 0,
             "ticks": ""
            },
            "colorscale": [
             [
              0,
              "#0d0887"
             ],
             [
              0.1111111111111111,
              "#46039f"
             ],
             [
              0.2222222222222222,
              "#7201a8"
             ],
             [
              0.3333333333333333,
              "#9c179e"
             ],
             [
              0.4444444444444444,
              "#bd3786"
             ],
             [
              0.5555555555555556,
              "#d8576b"
             ],
             [
              0.6666666666666666,
              "#ed7953"
             ],
             [
              0.7777777777777778,
              "#fb9f3a"
             ],
             [
              0.8888888888888888,
              "#fdca26"
             ],
             [
              1,
              "#f0f921"
             ]
            ],
            "type": "heatmapgl"
           }
          ],
          "histogram": [
           {
            "marker": {
             "pattern": {
              "fillmode": "overlay",
              "size": 10,
              "solidity": 0.2
             }
            },
            "type": "histogram"
           }
          ],
          "histogram2d": [
           {
            "colorbar": {
             "outlinewidth": 0,
             "ticks": ""
            },
            "colorscale": [
             [
              0,
              "#0d0887"
             ],
             [
              0.1111111111111111,
              "#46039f"
             ],
             [
              0.2222222222222222,
              "#7201a8"
             ],
             [
              0.3333333333333333,
              "#9c179e"
             ],
             [
              0.4444444444444444,
              "#bd3786"
             ],
             [
              0.5555555555555556,
              "#d8576b"
             ],
             [
              0.6666666666666666,
              "#ed7953"
             ],
             [
              0.7777777777777778,
              "#fb9f3a"
             ],
             [
              0.8888888888888888,
              "#fdca26"
             ],
             [
              1,
              "#f0f921"
             ]
            ],
            "type": "histogram2d"
           }
          ],
          "histogram2dcontour": [
           {
            "colorbar": {
             "outlinewidth": 0,
             "ticks": ""
            },
            "colorscale": [
             [
              0,
              "#0d0887"
             ],
             [
              0.1111111111111111,
              "#46039f"
             ],
             [
              0.2222222222222222,
              "#7201a8"
             ],
             [
              0.3333333333333333,
              "#9c179e"
             ],
             [
              0.4444444444444444,
              "#bd3786"
             ],
             [
              0.5555555555555556,
              "#d8576b"
             ],
             [
              0.6666666666666666,
              "#ed7953"
             ],
             [
              0.7777777777777778,
              "#fb9f3a"
             ],
             [
              0.8888888888888888,
              "#fdca26"
             ],
             [
              1,
              "#f0f921"
             ]
            ],
            "type": "histogram2dcontour"
           }
          ],
          "mesh3d": [
           {
            "colorbar": {
             "outlinewidth": 0,
             "ticks": ""
            },
            "type": "mesh3d"
           }
          ],
          "parcoords": [
           {
            "line": {
             "colorbar": {
              "outlinewidth": 0,
              "ticks": ""
             }
            },
            "type": "parcoords"
           }
          ],
          "pie": [
           {
            "automargin": true,
            "type": "pie"
           }
          ],
          "scatter": [
           {
            "marker": {
             "line": {
              "color": "#283442"
             }
            },
            "type": "scatter"
           }
          ],
          "scatter3d": [
           {
            "line": {
             "colorbar": {
              "outlinewidth": 0,
              "ticks": ""
             }
            },
            "marker": {
             "colorbar": {
              "outlinewidth": 0,
              "ticks": ""
             }
            },
            "type": "scatter3d"
           }
          ],
          "scattercarpet": [
           {
            "marker": {
             "colorbar": {
              "outlinewidth": 0,
              "ticks": ""
             }
            },
            "type": "scattercarpet"
           }
          ],
          "scattergeo": [
           {
            "marker": {
             "colorbar": {
              "outlinewidth": 0,
              "ticks": ""
             }
            },
            "type": "scattergeo"
           }
          ],
          "scattergl": [
           {
            "marker": {
             "line": {
              "color": "#283442"
             }
            },
            "type": "scattergl"
           }
          ],
          "scattermapbox": [
           {
            "marker": {
             "colorbar": {
              "outlinewidth": 0,
              "ticks": ""
             }
            },
            "type": "scattermapbox"
           }
          ],
          "scatterpolar": [
           {
            "marker": {
             "colorbar": {
              "outlinewidth": 0,
              "ticks": ""
             }
            },
            "type": "scatterpolar"
           }
          ],
          "scatterpolargl": [
           {
            "marker": {
             "colorbar": {
              "outlinewidth": 0,
              "ticks": ""
             }
            },
            "type": "scatterpolargl"
           }
          ],
          "scatterternary": [
           {
            "marker": {
             "colorbar": {
              "outlinewidth": 0,
              "ticks": ""
             }
            },
            "type": "scatterternary"
           }
          ],
          "surface": [
           {
            "colorbar": {
             "outlinewidth": 0,
             "ticks": ""
            },
            "colorscale": [
             [
              0,
              "#0d0887"
             ],
             [
              0.1111111111111111,
              "#46039f"
             ],
             [
              0.2222222222222222,
              "#7201a8"
             ],
             [
              0.3333333333333333,
              "#9c179e"
             ],
             [
              0.4444444444444444,
              "#bd3786"
             ],
             [
              0.5555555555555556,
              "#d8576b"
             ],
             [
              0.6666666666666666,
              "#ed7953"
             ],
             [
              0.7777777777777778,
              "#fb9f3a"
             ],
             [
              0.8888888888888888,
              "#fdca26"
             ],
             [
              1,
              "#f0f921"
             ]
            ],
            "type": "surface"
           }
          ],
          "table": [
           {
            "cells": {
             "fill": {
              "color": "#506784"
             },
             "line": {
              "color": "rgb(17,17,17)"
             }
            },
            "header": {
             "fill": {
              "color": "#2a3f5f"
             },
             "line": {
              "color": "rgb(17,17,17)"
             }
            },
            "type": "table"
           }
          ]
         },
         "layout": {
          "annotationdefaults": {
           "arrowcolor": "#f2f5fa",
           "arrowhead": 0,
           "arrowwidth": 1
          },
          "autotypenumbers": "strict",
          "coloraxis": {
           "colorbar": {
            "outlinewidth": 0,
            "ticks": ""
           }
          },
          "colorscale": {
           "diverging": [
            [
             0,
             "#8e0152"
            ],
            [
             0.1,
             "#c51b7d"
            ],
            [
             0.2,
             "#de77ae"
            ],
            [
             0.3,
             "#f1b6da"
            ],
            [
             0.4,
             "#fde0ef"
            ],
            [
             0.5,
             "#f7f7f7"
            ],
            [
             0.6,
             "#e6f5d0"
            ],
            [
             0.7,
             "#b8e186"
            ],
            [
             0.8,
             "#7fbc41"
            ],
            [
             0.9,
             "#4d9221"
            ],
            [
             1,
             "#276419"
            ]
           ],
           "sequential": [
            [
             0,
             "#0d0887"
            ],
            [
             0.1111111111111111,
             "#46039f"
            ],
            [
             0.2222222222222222,
             "#7201a8"
            ],
            [
             0.3333333333333333,
             "#9c179e"
            ],
            [
             0.4444444444444444,
             "#bd3786"
            ],
            [
             0.5555555555555556,
             "#d8576b"
            ],
            [
             0.6666666666666666,
             "#ed7953"
            ],
            [
             0.7777777777777778,
             "#fb9f3a"
            ],
            [
             0.8888888888888888,
             "#fdca26"
            ],
            [
             1,
             "#f0f921"
            ]
           ],
           "sequentialminus": [
            [
             0,
             "#0d0887"
            ],
            [
             0.1111111111111111,
             "#46039f"
            ],
            [
             0.2222222222222222,
             "#7201a8"
            ],
            [
             0.3333333333333333,
             "#9c179e"
            ],
            [
             0.4444444444444444,
             "#bd3786"
            ],
            [
             0.5555555555555556,
             "#d8576b"
            ],
            [
             0.6666666666666666,
             "#ed7953"
            ],
            [
             0.7777777777777778,
             "#fb9f3a"
            ],
            [
             0.8888888888888888,
             "#fdca26"
            ],
            [
             1,
             "#f0f921"
            ]
           ]
          },
          "colorway": [
           "#636efa",
           "#EF553B",
           "#00cc96",
           "#ab63fa",
           "#FFA15A",
           "#19d3f3",
           "#FF6692",
           "#B6E880",
           "#FF97FF",
           "#FECB52"
          ],
          "font": {
           "color": "#f2f5fa"
          },
          "geo": {
           "bgcolor": "rgb(17,17,17)",
           "lakecolor": "rgb(17,17,17)",
           "landcolor": "rgb(17,17,17)",
           "showlakes": true,
           "showland": true,
           "subunitcolor": "#506784"
          },
          "hoverlabel": {
           "align": "left"
          },
          "hovermode": "closest",
          "mapbox": {
           "style": "dark"
          },
          "paper_bgcolor": "rgb(17,17,17)",
          "plot_bgcolor": "rgb(17,17,17)",
          "polar": {
           "angularaxis": {
            "gridcolor": "#506784",
            "linecolor": "#506784",
            "ticks": ""
           },
           "bgcolor": "rgb(17,17,17)",
           "radialaxis": {
            "gridcolor": "#506784",
            "linecolor": "#506784",
            "ticks": ""
           }
          },
          "scene": {
           "xaxis": {
            "backgroundcolor": "rgb(17,17,17)",
            "gridcolor": "#506784",
            "gridwidth": 2,
            "linecolor": "#506784",
            "showbackground": true,
            "ticks": "",
            "zerolinecolor": "#C8D4E3"
           },
           "yaxis": {
            "backgroundcolor": "rgb(17,17,17)",
            "gridcolor": "#506784",
            "gridwidth": 2,
            "linecolor": "#506784",
            "showbackground": true,
            "ticks": "",
            "zerolinecolor": "#C8D4E3"
           },
           "zaxis": {
            "backgroundcolor": "rgb(17,17,17)",
            "gridcolor": "#506784",
            "gridwidth": 2,
            "linecolor": "#506784",
            "showbackground": true,
            "ticks": "",
            "zerolinecolor": "#C8D4E3"
           }
          },
          "shapedefaults": {
           "line": {
            "color": "#f2f5fa"
           }
          },
          "sliderdefaults": {
           "bgcolor": "#C8D4E3",
           "bordercolor": "rgb(17,17,17)",
           "borderwidth": 1,
           "tickwidth": 0
          },
          "ternary": {
           "aaxis": {
            "gridcolor": "#506784",
            "linecolor": "#506784",
            "ticks": ""
           },
           "baxis": {
            "gridcolor": "#506784",
            "linecolor": "#506784",
            "ticks": ""
           },
           "bgcolor": "rgb(17,17,17)",
           "caxis": {
            "gridcolor": "#506784",
            "linecolor": "#506784",
            "ticks": ""
           }
          },
          "title": {
           "x": 0.05
          },
          "updatemenudefaults": {
           "bgcolor": "#506784",
           "borderwidth": 0
          },
          "xaxis": {
           "automargin": true,
           "gridcolor": "#283442",
           "linecolor": "#506784",
           "ticks": "",
           "title": {
            "standoff": 15
           },
           "zerolinecolor": "#283442",
           "zerolinewidth": 2
          },
          "yaxis": {
           "automargin": true,
           "gridcolor": "#283442",
           "linecolor": "#506784",
           "ticks": "",
           "title": {
            "standoff": 15
           },
           "zerolinecolor": "#283442",
           "zerolinewidth": 2
          }
         }
        },
        "title": {
         "text": "TCS Stock Candlestick Chart"
        },
        "width": 1000,
        "xaxis": {
         "autorange": false,
         "range": [
          "2024-04-06 21:10:17.1429",
          "2024-07-09 13:27:25.7143"
         ],
         "rangeslider": {
          "visible": false,
          "yaxis": {}
         },
         "showspikes": false,
         "title": {
          "text": "Date"
         },
         "type": "date"
        },
        "yaxis": {
         "autorange": false,
         "range": [
          3911.3454493273216,
          4084.3461162499075
         ],
         "showspikes": false,
         "title": {
          "text": "Stock Price (₹)"
         }
        }
       }
      },
      "image/png": "[encoded data removed]",
      "text/html": [
       "<div>                            <div id=\"198fe29d-ba6f-45d2-a5e9-ee456773662f\" class=\"plotly-graph-div\" style=\"height:600px; width:1000px;\"></div>            <script type=\"text/javascript\">                require([\"plotly\"], function(Plotly) {                    window.PLOTLYENV=window.PLOTLYENV || {};                                    if (document.getElementById(\"198fe29d-ba6f-45d2-a5e9-ee456773662f\")) {                    Plotly.newPlot(                        \"198fe29d-ba6f-45d2-a5e9-ee456773662f\",                        [{\"close\":[3689.464599609375,3662.455078125,3573.923583984375,3549.770263671875,3618.6005859375,3560.902587890625,3572.132568359375,3594.5439453125,3616.32568359375,3758.8759765625,3779.2060546875,3738.0625,3760.618896484375,3778.04443359375,3834.891357421875,3752.4169921875,3736.418212890625,3705.782470703125,3696.7373046875,3696.2998046875,3711.27734375,3748.429443359375,3857.503173828125,3864.31103515625,4022.548095703125,3971.390625,4020.70068359375,4020.3115234375,4007.668212890625,4035.677978515625,3987.63330078125,3990.648193359375,4015.0595703125,3991.231201171875,3920.087646484375,3882.011962890625,3974.989501953125,3940.94970703125,3891.300048828125,3991.815185546875,4005.966064453125,3982.770263671875,3982.041015625,3968.76513671875,3902.047119140625,3952.81494140625,3995.900146484375,4009.272705078125,4077.255615234375,4035.191650390625,4092.1845703125,4103.5146484375,4038.595703125,3868.201416015625,3861.976806640625,3863.970703125,3803.622802734375,3771.138916015625,3735.54296875,3769.971923828125,3809.3125,3777.266357421875,3839.024169921875,3893.48828125,3870.09814453125,3863.581787109375,3838.294677734375,3875.349609375,3891.640380859375,3833.091796875,3766.568115234375,3756.064208984375,3721.24609375,3758.593017578125,3768.415771484375,3725.96337890625,3746.532958984375,3716.529296875,3764.039306640625,3715.84814453125,3757.32861328125,3737.974365234375,3813.494384765625,3869.80615234375,3867.861083984375,3851.5703125,3787.0888671875,3839.5107421875,3794.188720703125,3773.959228515625,3821.520751953125,3756.031982421875,3742.414794921875,3753.974609375,3814.173583984375,3771.1181640625,3768.71826171875,3761.713623046875,3726.201904296875,3660.027587890625,3596.203857421875,3627.454345703125,3639.357177734375,3670.16650390625,3752.4072265625,3814.663330078125,3780.131103515625,3773.66552734375,3753.6318359375,3799.184814453125,3754.023681640625,3737.4189453125,3724.29150390625,3710.135986328125,3733.157470703125,3739.084228515625,3760.29345703125,3777.339111328125,3854.044677734375,3824.655517578125,3897.19775390625,3935.599853515625,3884.51171875,3939.077392578125,3930.11376953125,3911.892333984375,3904.349365234375,3829.5537109375,3843.8076171875,4098.7587890625,4084.308837890625,4093.370849609375,4227.6787109375,4224.5859375,4209.80859375,4224.537109375,4228.3662109375,4244.322265625,4308.49072265625,4301.86279296875,4286.3974609375,4306.03564453125,4317.5732421875,4205.5859375,4079.900634765625,4095.759033203125,4124.47998046875,4097.08447265625,4152.26806640625,4119.76611328125,4121.04345703125,4217.5654296875,4336.18017578125,4408.79248046875,4441.490234375,4469.1806640625,4420.576171875,4383.16455078125,4421.017578125,4415.8134765625,4424.552734375,4430.1982421875,4471.39013671875,4439.28125,4430.73876953125,4398.2373046875,4394.9970703125,4376.14453125,4369.07421875,4426.3203125,4398.3359375,4435.99169921875,4440.80322265625,4431.6220703125,4424.16015625,4267.54443359375,4218.44873046875,4207.40234375,4191.298828125,4194.0478515625,4197.435546875,4214.86474609375,4230.77197265625,4191.298828125,4210.34814453125,4156.1953125,4175.3427734375,4195.5703125,4176.32470703125,4176.0302734375,4150.9423828125,4074.156982421875,4061.83349609375,4042.342529296875,4020.8876953125,4034.68359375,4058.356201171875,4015.834228515625,3952.493896484375,4002.447509765625,3984.38525390625,3993.884033203125,4026.66162109375,4011.306396484375,4020.55859375,3906.18212890625,3921.684814453125,3901.949462890625,3909.03662109375,4074.69580078125,4085.769287109375,4081.930419921875,4132.8193359375,4131.53955078125,4085.22802734375,4080.84765625,3956.43115234375,3976.16650390625,4008.944091796875,4177.9990234375,4247.39306640625,4284.4033203125,4264.56884765625,4178.29443359375,4203.83740234375,4209.5458984375,4235.23681640625,4286.076171875,4394.00537109375,4375.74658203125,4382.29248046875,4363.0,4357.97998046875,4385.048828125,4403.701171875,4345.92236328125,4260.58251953125,4279.62890625,4204.87060546875,4104.86474609375,4093.052978515625,4113.92041015625,4103.68359375,4099.50048828125,4093.545166015625,4030.549560546875],\"high\":[3709.697458326463,3689.464761591632,3651.46719557593,3600.3041984290385,3628.1363065511255,3620.3912884449455,3632.5895949671935,3610.2268571056234,3652.58037661136,3780.609411473842,3838.452743329957,3774.55921663568,3785.159682088404,3784.0465066802335,3854.829038114138,3825.991793978989,3777.120111192251,3755.091708272492,3715.216128362602,3742.253722811887,3728.83227453436,3797.7873560173134,3875.1065425906513,3911.67512958968,4036.066718938935,4041.026703606434,4043.9450055553343,4069.961016230209,4045.501079810897,4055.615657406954,4002.027143031753,4032.565567628202,4034.1709461020446,4015.059157963777,3985.5903054124697,3951.89119090927,3982.624031221046,4016.7127903511646,3938.9072881929615,4010.877647617821,4040.929659438592,4024.590760669227,4026.438729341799,4004.944682155846,3952.523393285034,3960.3036803464415,4010.877625569365,4039.081870716427,4113.921685490996,4124.668062016544,4109.10718896528,4122.7228997396605,4138.040955537891,3946.687741302402,3907.78493306345,3898.448251153244,3829.979536983663,3838.440690058343,3788.159085948257,3807.6103232125056,3825.408576562606,3802.601846327223,3871.7997191513855,3918.142780385877,3892.224106154191,3922.033083278546,3905.69379982652,3880.747418488778,3903.262778963109,3952.717874429233,3820.934668415037,3828.034367312921,3746.873400013286,3771.6253567885888,3788.158983895616,3791.07687601712,3767.394531605907,3770.458238943657,3771.4309315368455,3775.272245223485,3764.914704518402,3786.797555112029,3831.875856708849,3878.6079555993488,3875.0095663734273,3862.074112296181,3864.60285828906,3846.513196599001,3837.565422637813,3819.2323938552713,3829.8967089471594,3840.182831975143,3766.464966935056,3763.0362652039976,3825.488456831451,3804.719810292912,3828.770148367113,3791.2008363305977,3770.5305466531386,3717.140322546408,3673.4484478197846,3675.162690587452,3668.7463339475735,3706.756096486479,3761.713792341841,3835.2847685577945,3826.369993755079,3800.9483158199455,3814.2225740099775,3810.7936259222743,3809.814045191037,3763.7711253531625,3755.787024052229,3732.373732906952,3798.8422809619256,3778.465647895979,3769.3060836478994,3788.212954904168,3861.734935564597,3879.368422948388,3920.219258189819,3941.477684872996,3944.122819546365,3964.939992570708,3944.759317225375,3949.167626015467,3925.362563890056,3921.786818355145,3898.9613137562046,4114.4330054282855,4153.667049168463,4109.142647435194,4236.93648604033,4279.916877333292,4241.819082313878,4282.8137917236645,4260.622174468574,4264.4514978853385,4342.465037283493,4350.860197383269,4318.456850304975,4334.167378134563,4339.371440757876,4318.457126714295,4162.332487870675,4181.23443768936,4168.175144224216,4155.459443240806,4176.717624634707,4162.332168001852,4157.423172797769,4228.317578037032,4346.932323500371,4412.965613662957,4482.436229168461,4477.52693136878,4478.46018536363,4424.503214207465,4469.818401872383,4428.431164573309,4479.981963267699,4473.599021489441,4509.193819455762,4505.0205715236125,4473.500923144872,4405.847136492228,4417.629990620445,4437.219764224585,4409.03830092537,4457.83984203426,4467.06990758778,4450.622117409099,4464.761822271718,4463.828648356052,4453.7647636995625,4415.715125527233,4342.219248359466,4252.374283438895,4231.459004478235,4213.39174349326,4212.017061063411,4238.725058292773,4298.818403851764,4221.001718965056,4218.056263856357,4201.608822204832,4220.26532782277,4219.528912395065,4202.001656010186,4217.319554831079,4216.19074786921,4165.229488527156,4090.063516948677,4094.531631187995,4040.5751141050914,4055.254878567037,4081.0938417563607,4074.991311135829,4025.628123729215,4049.0051452980897,4014.9973672208257,4027.7934387000982,4069.134469419595,4039.113133666311,4042.55800112918,4014.308599846557,3936.203375700577,3929.264044897525,3923.456655426901,4084.686443814856,4139.80777036327,4104.323455140882,4167.860359857493,4151.816417459889,4130.899880816483,4094.7265129104985,4146.894998090364,4067.3133968435623,4028.236409232463,4188.186720017956,4260.189087034664,4298.085123579749,4308.71521363045,4271.853320530873,4231.250512031332,4220.914958216208,4257.137698206271,4318.115726856116,4418.564078323639,4394.940611577895,4399.271815609351,4423.288944687637,4378.847047235939,4414.627129801404,4424.371666662094,4404.783863782896,4363.393811274363,4293.556785484744,4295.525583873814,4313.24321027579,4150.832123971284,4151.816315358072,4134.049628782047,4115.347963377728,4133.409691121346,4074.9912673216186],\"low\":[3652.580508942,3647.014186705242,3569.3736371199507,3534.474490041522,3557.563087302939,3555.190751823353,3565.2108632457825,3570.293396528936,3588.6868423266137,3699.629292897656,3761.006029719265,3732.496017441484,3690.868402661563,3738.7401315604266,3807.6594033056126,3737.342162049768,3701.211238257574,3675.049172415224,3677.140120872728,3683.1214378212753,3692.312234372478,3700.676413185152,3765.7898054070656,3853.41830257255,3880.552925980529,3962.199889733255,3973.9686597901937,3987.5357348811417,3992.933401804451,3969.543238778533,3938.42117677672,3971.002095413332,3987.633387876024,3943.769991476078,3900.004178795511,3871.411048123551,3862.0740708816,3935.4058698837393,3873.5019758149424,3889.306428909715,3976.8374126470994,3953.058211921048,3974.698066588772,3964.096754658917,3870.827535746663,3849.86834727239,3926.944809145925,3976.837411355519,4008.00845770711,4018.560613686994,3973.919993872695,4062.4235791961696,4004.896257798288,3857.794967981477,3851.570358663032,3839.705136843681,3749.256250653129,3765.254821991244,3724.358416891616,3735.153881557504,3781.399796164316,3766.76255686981,3745.365666529009,3827.304866462404,3851.862461874981,3851.375989955484,3817.3844309237984,3810.527936369096,3837.273828513629,3811.549472195389,3756.8910938649233,3744.393372498665,3696.6400331481454,3707.4357555642346,3754.702681171968,3719.544323594792,3706.463134746145,3698.2449391305313,3714.438250607191,3705.490372718872,3674.417045390118,3693.430862032895,3747.310970665456,3806.151513098809,3830.563177847568,3802.796039124029,3778.481768246644,3763.844771387645,3786.11634501382,3769.1937321404057,3765.240568062004,3752.0153689961217,3732.471560226369,3739.8188813463134,3747.607193753832,3766.024092022885,3763.134370217548,3752.015297970592,3722.6263194210433,3639.797908853329,3579.354123272811,3620.743726624221,3518.3718179900425,3624.662344736642,3665.317459305752,3759.1669041268415,3763.673128570854,3762.7914444244025,3749.5174019913065,3773.5673642808742,3750.05609796639,3717.777145509997,3715.7196673389967,3703.082636815265,3720.716109397647,3714.103447073741,3715.670874281783,3762.791384299501,3740.357822070456,3818.4839864227138,3804.915856909854,3901.45959321664,3874.4704237201313,3901.018580221167,3906.798325472104,3897.050906666984,3894.1612201799726,3822.5493913955625,3816.279918247893,3890.4385136742408,4072.405847991194,4060.503689582387,4075.296134549774,4207.746211320331,4187.862722514556,4189.13882773974,4190.906296157616,4196.896022372138,4258.60921210032,4291.945367357768,4249.035353541636,4266.415328045917,4286.102617400063,4192.772153494779,4036.1565679151713,4085.546746125882,4104.694033994683,4084.7616455297134,4129.487474001761,4110.634507665087,4107.345567268085,4112.40236132334,4246.875404760914,4310.94487687575,4418.611835982054,4411.29665372891,4415.863177154606,4374.425614579285,4403.882992094799,4405.650573010988,4376.684433945564,4379.335301984835,4406.63272736712,4430.395121777363,4414.586095966468,4356.457065075125,4373.591062750139,4359.697474336681,4350.3689532319695,4360.139416875328,4390.38233935696,4351.153972266564,4423.521444762281,4413.162284266815,4385.227366985309,4242.84939817985,4204.35817203477,4151.040587546543,4176.0791650499295,4163.314144118252,4163.314046143049,4182.952549413949,4222.2780351461415,4183.001465184691,4166.211406289576,4133.85677529384,4147.652613708516,4152.905967774814,4127.916550358536,4169.893312502065,4122.663456603558,4038.0716498141214,4047.645129803671,4020.937000293908,3993.639588528437,4018.9238301370233,4015.981878743336,4006.138686185549,3943.487562735876,3932.463025582815,3941.174174638928,3969.42385229137,3987.436801068887,3996.394207004564,3996.344730916741,3897.864763520815,3913.662790294584,3851.848217603721,3879.261266395641,3912.87545183105,4020.952665320235,4053.0408475923055,4053.04078486624,4099.00832230913,4066.2305702818967,4051.860036976369,3927.5908423676874,3951.115881398178,3960.860488009095,3990.389589438143,4185.480108874261,4242.373120582253,4256.202219033572,4166.581249097751,4129.817151927626,4163.676993000992,4198.522271973675,4221.751465216019,4291.588189238375,4343.510455484962,4346.266664568218,4342.871163165953,4337.850664985335,4356.552882162991,4325.448584466717,4328.007742805228,4250.247272573856,4222.2928946144,4195.126039979421,4087.344233379785,4050.3340530174855,4093.0528623167015,4078.140577688001,4082.176549305344,4047.479684808028,3968.7841551770334],\"name\":\"TCS Stock\",\"open\":[3669.037935035828,3689.464761591632,3646.771894323597,3583.6047503454406,3557.7082053433087,3618.600238926273,3591.542697173614,3572.229564314473,3605.1442678242,3725.18661170254,3833.612323729289,3774.55921663568,3697.1124966863217,3773.591152983569,3836.7878210233553,3793.0217765907473,3773.570326867422,3734.570392097221,3696.542838242831,3703.010440610695,3706.657637619578,3715.216282824203,3768.7561904233226,3873.744913265961,3887.360913569969,4039.081564398922,3977.81026279974,4023.082967148053,4016.712921281345,4012.287867137159,3994.3439370346928,4014.7677320269977,4000.422585306404,4009.9531672226553,3970.12654342168,3902.922211469392,3862.0740708816,4016.7127903511646,3925.291312381924,3889.306428909715,3983.2564674982855,3986.5631905150553,3994.538631779336,3992.398627973585,3950.578253819836,3884.491922362945,3953.496010654576,3976.837411355519,4009.2730833397145,4089.655553119445,4039.5200133888384,4077.595761278169,4099.624452160784,3940.1228959958985,3876.662703631386,3880.6017398046433,3790.1041786758087,3768.707491827349,3781.8373827239534,3744.490645526798,3790.7849991059966,3783.29624224724,3745.365666529009,3866.83972932028,3868.8824323541658,3873.7450929274473,3874.717362480791,3847.874516418791,3862.0743563623423,3891.640447506282,3794.967103992823,3770.458288138839,3732.722463560279,3731.749998452248,3770.7014052583295,3783.296318036582,3706.657601197812,3749.401962592489,3732.722608947488,3765.789691120071,3674.417045390118,3783.4419996244737,3747.310970665456,3822.977016362857,3852.348644505229,3853.320985373324,3853.904592133325,3777.947032158994,3828.0341924544327,3797.3982523912314,3811.871456246998,3839.203193497598,3752.603178401787,3756.913524779,3762.742561197269,3799.282769132457,3776.506339799602,3779.445174822596,3770.5305466531386,3700.094707884028,3663.847942809528,3656.794469571704,3624.662599627776,3640.336560281449,3704.013180177749,3759.1669041268415,3815.692029571215,3766.7099983889166,3795.511382627863,3778.269676743172,3809.814045191037,3748.145939077396,3749.7130742346512,3718.7078233814937,3749.0765965704554,3731.198090853983,3739.280258455972,3766.220118963664,3752.995062949765,3838.027726477141,3804.915856909854,3912.284647133711,3938.146928787592,3918.407163657249,3928.350372402993,3940.1059700674,3903.859545968883,3902.585808266167,3850.9590262250354,3898.961320989225,4149.454795147631,4087.051989689471,4075.296134549774,4239.3146448495845,4222.18080459986,4205.536980663162,4209.955327580733,4217.319636983082,4271.325188060915,4335.149576043135,4311.681741041037,4271.32489689292,4319.831452135074,4286.053969556137,4162.332487870675,4095.513554753193,4151.531513665411,4105.381836528783,4140.730579021024,4153.494944715224,4136.802982285547,4132.875360818273,4271.32496210224,4341.040435668673,4423.5214046887,4436.286551737751,4477.527175422035,4418.611731898268,4407.810646937247,4423.521595654713,4417.384955013821,4379.335301984835,4418.6122679625305,4493.237605774205,4439.281131802064,4395.979094770648,4399.955543002937,4393.033641173875,4374.425840570686,4362.103244516713,4439.674606828533,4428.676250398551,4448.069288517899,4445.123383881834,4431.622797592129,4415.715125527233,4310.650337218327,4238.8235853352135,4222.22911114853,4174.753342987435,4175.44077610614,4182.952549413949,4256.596112539378,4209.365945175714,4178.583136778167,4185.505533031941,4148.5856235577485,4196.601130169736,4195.324834210528,4182.952573592642,4176.324950925273,4068.068925004607,4065.123003109471,4056.3348009096194,4011.1177013655647,4038.414674215347,4025.824971583393,4067.756541954516,4002.201514906106,3936.8433940172417,3941.174174638928,3993.391878579628,4005.105104174324,4031.583263792324,4011.060105819676,4006.1387847297274,3927.2463058287503,3904.0658719887983,3879.261266395641,3940.780715946805,4104.274589912992,4089.8048938450415,4063.425535563547,4149.847798959433,4112.542609268491,4070.118781462719,4146.894998090364,3956.8246828361807,3981.432455552984,4007.122846226611,4212.843714585579,4253.249546195695,4290.55499634484,4251.23184853607,4153.785179120677,4203.000338296886,4246.654900345047,4245.867042233743,4331.747813073262,4383.128901087652,4360.933257388377,4356.700516597411,4362.310844845357,4360.539142507212,4365.362613963178,4389.034915890042,4340.8037221053055,4244.046224337432,4214.812225056753,4261.074819097192,4134.147889868673,4093.0528623167015,4113.920313335754,4097.679420039338,4085.8677460209447,4070.118744291556],\"x\":[\"2024-01-01T00:00:00\",\"2024-01-02T00:00:00\",\"2024-01-03T00:00:00\",\"2024-01-04T00:00:00\",\"2024-01-05T00:00:00\",\"2024-01-08T00:00:00\",\"2024-01-09T00:00:00\",\"2024-01-10T00:00:00\",\"2024-01-11T00:00:00\",\"2024-01-12T00:00:00\",\"2024-01-15T00:00:00\",\"2024-01-16T00:00:00\",\"2024-01-17T00:00:00\",\"2024-01-18T00:00:00\",\"2024-01-19T00:00:00\",\"2024-01-23T00:00:00\",\"2024-01-24T00:00:00\",\"2024-01-25T00:00:00\",\"2024-01-29T00:00:00\",\"2024-01-30T00:00:00\",\"2024-01-31T00:00:00\",\"2024-02-01T00:00:00\",\"2024-02-02T00:00:00\",\"2024-02-05T00:00:00\",\"2024-02-06T00:00:00\",\"2024-02-07T00:00:00\",\"2024-02-08T00:00:00\",\"2024-02-09T00:00:00\",\"2024-02-12T00:00:00\",\"2024-02-13T00:00:00\",\"2024-02-14T00:00:00\",\"2024-02-15T00:00:00\",\"2024-02-16T00:00:00\",\"2024-02-19T00:00:00\",\"2024-02-20T00:00:00\",\"2024-02-21T00:00:00\",\"2024-02-22T00:00:00\",\"2024-02-23T00:00:00\",\"2024-02-26T00:00:00\",\"2024-02-27T00:00:00\",\"2024-02-28T00:00:00\",\"2024-02-29T00:00:00\",\"2024-03-01T00:00:00\",\"2024-03-04T00:00:00\",\"2024-03-05T00:00:00\",\"2024-03-06T00:00:00\",\"2024-03-07T00:00:00\",\"2024-03-11T00:00:00\",\"2024-03-12T00:00:00\",\"2024-03-13T00:00:00\",\"2024-03-14T00:00:00\",\"2024-03-15T00:00:00\",\"2024-03-18T00:00:00\",\"2024-03-19T00:00:00\",\"2024-03-20T00:00:00\",\"2024-03-21T00:00:00\",\"2024-03-22T00:00:00\",\"2024-03-26T00:00:00\",\"2024-03-27T00:00:00\",\"2024-03-28T00:00:00\",\"2024-04-01T00:00:00\",\"2024-04-02T00:00:00\",\"2024-04-03T00:00:00\",\"2024-04-04T00:00:00\",\"2024-04-05T00:00:00\",\"2024-04-08T00:00:00\",\"2024-04-09T00:00:00\",\"2024-04-10T00:00:00\",\"2024-04-12T00:00:00\",\"2024-04-15T00:00:00\",\"2024-04-16T00:00:00\",\"2024-04-18T00:00:00\",\"2024-04-19T00:00:00\",\"2024-04-22T00:00:00\",\"2024-04-23T00:00:00\",\"2024-04-24T00:00:00\",\"2024-04-25T00:00:00\",\"2024-04-26T00:00:00\",\"2024-04-29T00:00:00\",\"2024-04-30T00:00:00\",\"2024-05-02T00:00:00\",\"2024-05-03T00:00:00\",\"2024-05-06T00:00:00\",\"2024-05-07T00:00:00\",\"2024-05-08T00:00:00\",\"2024-05-09T00:00:00\",\"2024-05-10T00:00:00\",\"2024-05-13T00:00:00\",\"2024-05-14T00:00:00\",\"2024-05-15T00:00:00\",\"2024-05-16T00:00:00\",\"2024-05-17T00:00:00\",\"2024-05-21T00:00:00\",\"2024-05-22T00:00:00\",\"2024-05-23T00:00:00\",\"2024-05-24T00:00:00\",\"2024-05-27T00:00:00\",\"2024-05-28T00:00:00\",\"2024-05-29T00:00:00\",\"2024-05-30T00:00:00\",\"2024-05-31T00:00:00\",\"2024-06-03T00:00:00\",\"2024-06-04T00:00:00\",\"2024-06-05T00:00:00\",\"2024-06-06T00:00:00\",\"2024-06-07T00:00:00\",\"2024-06-10T00:00:00\",\"2024-06-11T00:00:00\",\"2024-06-12T00:00:00\",\"2024-06-13T00:00:00\",\"2024-06-14T00:00:00\",\"2024-06-18T00:00:00\",\"2024-06-19T00:00:00\",\"2024-06-20T00:00:00\",\"2024-06-21T00:00:00\",\"2024-06-24T00:00:00\",\"2024-06-25T00:00:00\",\"2024-06-26T00:00:00\",\"2024-06-27T00:00:00\",\"2024-06-28T00:00:00\",\"2024-07-01T00:00:00\",\"2024-07-02T00:00:00\",\"2024-07-03T00:00:00\",\"2024-07-04T00:00:00\",\"2024-07-05T00:00:00\",\"2024-07-08T00:00:00\",\"2024-07-09T00:00:00\",\"2024-07-10T00:00:00\",\"2024-07-11T00:00:00\",\"2024-07-12T00:00:00\",\"2024-07-15T00:00:00\",\"2024-07-16T00:00:00\",\"2024-07-18T00:00:00\",\"2024-07-19T00:00:00\",\"2024-07-22T00:00:00\",\"2024-07-23T00:00:00\",\"2024-07-24T00:00:00\",\"2024-07-25T00:00:00\",\"2024-07-26T00:00:00\",\"2024-07-29T00:00:00\",\"2024-07-30T00:00:00\",\"2024-07-31T00:00:00\",\"2024-08-01T00:00:00\",\"2024-08-02T00:00:00\",\"2024-08-05T00:00:00\",\"2024-08-06T00:00:00\",\"2024-08-07T00:00:00\",\"2024-08-08T00:00:00\",\"2024-08-09T00:00:00\",\"2024-08-12T00:00:00\",\"2024-08-13T00:00:00\",\"2024-08-14T00:00:00\",\"2024-08-16T00:00:00\",\"2024-08-19T00:00:00\",\"2024-08-20T00:00:00\",\"2024-08-21T00:00:00\",\"2024-08-22T00:00:00\",\"2024-08-23T00:00:00\",\"2024-08-26T00:00:00\",\"2024-08-27T00:00:00\",\"2024-08-28T00:00:00\",\"2024-08-29T00:00:00\",\"2024-08-30T00:00:00\",\"2024-09-02T00:00:00\",\"2024-09-03T00:00:00\",\"2024-09-04T00:00:00\",\"2024-09-05T00:00:00\",\"2024-09-06T00:00:00\",\"2024-09-09T00:00:00\",\"2024-09-10T00:00:00\",\"2024-09-11T00:00:00\",\"2024-09-12T00:00:00\",\"2024-09-13T00:00:00\",\"2024-09-16T00:00:00\",\"2024-09-17T00:00:00\",\"2024-09-18T00:00:00\",\"2024-09-19T00:00:00\",\"2024-09-20T00:00:00\",\"2024-09-23T00:00:00\",\"2024-09-24T00:00:00\",\"2024-09-25T00:00:00\",\"2024-09-26T00:00:00\",\"2024-09-27T00:00:00\",\"2024-09-30T00:00:00\",\"2024-10-01T00:00:00\",\"2024-10-03T00:00:00\",\"2024-10-04T00:00:00\",\"2024-10-07T00:00:00\",\"2024-10-08T00:00:00\",\"2024-10-09T00:00:00\",\"2024-10-10T00:00:00\",\"2024-10-11T00:00:00\",\"2024-10-14T00:00:00\",\"2024-10-15T00:00:00\",\"2024-10-16T00:00:00\",\"2024-10-17T00:00:00\",\"2024-10-18T00:00:00\",\"2024-10-21T00:00:00\",\"2024-10-22T00:00:00\",\"2024-10-23T00:00:00\",\"2024-10-24T00:00:00\",\"2024-10-25T00:00:00\",\"2024-10-28T00:00:00\",\"2024-10-29T00:00:00\",\"2024-10-30T00:00:00\",\"2024-10-31T00:00:00\",\"2024-11-01T00:00:00\",\"2024-11-04T00:00:00\",\"2024-11-05T00:00:00\",\"2024-11-06T00:00:00\",\"2024-11-07T00:00:00\",\"2024-11-08T00:00:00\",\"2024-11-11T00:00:00\",\"2024-11-12T00:00:00\",\"2024-11-13T00:00:00\",\"2024-11-14T00:00:00\",\"2024-11-18T00:00:00\",\"2024-11-19T00:00:00\",\"2024-11-21T00:00:00\",\"2024-11-22T00:00:00\",\"2024-11-25T00:00:00\",\"2024-11-26T00:00:00\",\"2024-11-27T00:00:00\",\"2024-11-28T00:00:00\",\"2024-11-29T00:00:00\",\"2024-12-02T00:00:00\",\"2024-12-03T00:00:00\",\"2024-12-04T00:00:00\",\"2024-12-05T00:00:00\",\"2024-12-06T00:00:00\",\"2024-12-09T00:00:00\",\"2024-12-10T00:00:00\",\"2024-12-11T00:00:00\",\"2024-12-12T00:00:00\",\"2024-12-13T00:00:00\",\"2024-12-16T00:00:00\",\"2024-12-17T00:00:00\",\"2024-12-18T00:00:00\",\"2024-12-19T00:00:00\",\"2024-12-20T00:00:00\",\"2024-12-23T00:00:00\",\"2024-12-24T00:00:00\",\"2024-12-26T00:00:00\",\"2024-12-27T00:00:00\",\"2024-12-30T00:00:00\",\"2024-12-31T00:00:00\"],\"type\":\"candlestick\"}],                        {\"template\":{\"data\":{\"barpolar\":[{\"marker\":{\"line\":{\"color\":\"rgb(17,17,17)\",\"width\":0.5},\"pattern\":{\"fillmode\":\"overlay\",\"size\":10,\"solidity\":0.2}},\"type\":\"barpolar\"}],\"bar\":[{\"error_x\":{\"color\":\"#f2f5fa\"},\"error_y\":{\"color\":\"#f2f5fa\"},\"marker\":{\"line\":{\"color\":\"rgb(17,17,17)\",\"width\":0.5},\"pattern\":{\"fillmode\":\"overlay\",\"size\":10,\"solidity\":0.2}},\"type\":\"bar\"}],\"carpet\":[{\"aaxis\":{\"endlinecolor\":\"#A2B1C6\",\"gridcolor\":\"#506784\",\"linecolor\":\"#506784\",\"minorgridcolor\":\"#506784\",\"startlinecolor\":\"#A2B1C6\"},\"baxis\":{\"endlinecolor\":\"#A2B1C6\",\"gridcolor\":\"#506784\",\"linecolor\":\"#506784\",\"minorgridcolor\":\"#506784\",\"startlinecolor\":\"#A2B1C6\"},\"type\":\"carpet\"}],\"choropleth\":[{\"colorbar\":{\"outlinewidth\":0,\"ticks\":\"\"},\"type\":\"choropleth\"}],\"contourcarpet\":[{\"colorbar\":{\"outlinewidth\":0,\"ticks\":\"\"},\"type\":\"contourcarpet\"}],\"contour\":[{\"colorbar\":{\"outlinewidth\":0,\"ticks\":\"\"},\"colorscale\":[[0.0,\"#0d0887\"],[0.1111111111111111,\"#46039f\"],[0.2222222222222222,\"#7201a8\"],[0.3333333333333333,\"#9c179e\"],[0.4444444444444444,\"#bd3786\"],[0.5555555555555556,\"#d8576b\"],[0.6666666666666666,\"#ed7953\"],[0.7777777777777778,\"#fb9f3a\"],[0.8888888888888888,\"#fdca26\"],[1.0,\"#f0f921\"]],\"type\":\"contour\"}],\"heatmapgl\":[{\"colorbar\":{\"outlinewidth\":0,\"ticks\":\"\"},\"colorscale\":[[0.0,\"#0d0887\"],[0.1111111111111111,\"#46039f\"],[0.2222222222222222,\"#7201a8\"],[0.3333333333333333,\"#9c179e\"],[0.4444444444444444,\"#bd3786\"],[0.5555555555555556,\"#d8576b\"],[0.6666666666666666,\"#ed7953\"],[0.7777777777777778,\"#fb9f3a\"],[0.8888888888888888,\"#fdca26\"],[1.0,\"#f0f921\"]],\"type\":\"heatmapgl\"}],\"heatmap\":[{\"colorbar\":{\"outlinewidth\":0,\"ticks\":\"\"},\"colorscale\":[[0.0,\"#0d0887\"],[0.1111111111111111,\"#46039f\"],[0.2222222222222222,\"#7201a8\"],[0.3333333333333333,\"#9c179e\"],[0.4444444444444444,\"#bd3786\"],[0.5555555555555556,\"#d8576b\"],[0.6666666666666666,\"#ed7953\"],[0.7777777777777778,\"#fb9f3a\"],[0.8888888888888888,\"#fdca26\"],[1.0,\"#f0f921\"]],\"type\":\"heatmap\"}],\"histogram2dcontour\":[{\"colorbar\":{\"outlinewidth\":0,\"ticks\":\"\"},\"colorscale\":[[0.0,\"#0d0887\"],[0.1111111111111111,\"#46039f\"],[0.2222222222222222,\"#7201a8\"],[0.3333333333333333,\"#9c179e\"],[0.4444444444444444,\"#bd3786\"],[0.5555555555555556,\"#d8576b\"],[0.6666666666666666,\"#ed7953\"],[0.7777777777777778,\"#fb9f3a\"],[0.8888888888888888,\"#fdca26\"],[1.0,\"#f0f921\"]],\"type\":\"histogram2dcontour\"}],\"histogram2d\":[{\"colorbar\":{\"outlinewidth\":0,\"ticks\":\"\"},\"colorscale\":[[0.0,\"#0d0887\"],[0.1111111111111111,\"#46039f\"],[0.2222222222222222,\"#7201a8\"],[0.3333333333333333,\"#9c179e\"],[0.4444444444444444,\"#bd3786\"],[0.5555555555555556,\"#d8576b\"],[0.6666666666666666,\"#ed7953\"],[0.7777777777777778,\"#fb9f3a\"],[0.8888888888888888,\"#fdca26\"],[1.0,\"#f0f921\"]],\"type\":\"histogram2d\"}],\"histogram\":[{\"marker\":{\"pattern\":{\"fillmode\":\"overlay\",\"size\":10,\"solidity\":0.2}},\"type\":\"histogram\"}],\"mesh3d\":[{\"colorbar\":{\"outlinewidth\":0,\"ticks\":\"\"},\"type\":\"mesh3d\"}],\"parcoords\":[{\"line\":{\"colorbar\":{\"outlinewidth\":0,\"ticks\":\"\"}},\"type\":\"parcoords\"}],\"pie\":[{\"automargin\":true,\"type\":\"pie\"}],\"scatter3d\":[{\"line\":{\"colorbar\":{\"outlinewidth\":0,\"ticks\":\"\"}},\"marker\":{\"colorbar\":{\"outlinewidth\":0,\"ticks\":\"\"}},\"type\":\"scatter3d\"}],\"scattercarpet\":[{\"marker\":{\"colorbar\":{\"outlinewidth\":0,\"ticks\":\"\"}},\"type\":\"scattercarpet\"}],\"scattergeo\":[{\"marker\":{\"colorbar\":{\"outlinewidth\":0,\"ticks\":\"\"}},\"type\":\"scattergeo\"}],\"scattergl\":[{\"marker\":{\"line\":{\"color\":\"#283442\"}},\"type\":\"scattergl\"}],\"scattermapbox\":[{\"marker\":{\"colorbar\":{\"outlinewidth\":0,\"ticks\":\"\"}},\"type\":\"scattermapbox\"}],\"scatterpolargl\":[{\"marker\":{\"colorbar\":{\"outlinewidth\":0,\"ticks\":\"\"}},\"type\":\"scatterpolargl\"}],\"scatterpolar\":[{\"marker\":{\"colorbar\":{\"outlinewidth\":0,\"ticks\":\"\"}},\"type\":\"scatterpolar\"}],\"scatter\":[{\"marker\":{\"line\":{\"color\":\"#283442\"}},\"type\":\"scatter\"}],\"scatterternary\":[{\"marker\":{\"colorbar\":{\"outlinewidth\":0,\"ticks\":\"\"}},\"type\":\"scatterternary\"}],\"surface\":[{\"colorbar\":{\"outlinewidth\":0,\"ticks\":\"\"},\"colorscale\":[[0.0,\"#0d0887\"],[0.1111111111111111,\"#46039f\"],[0.2222222222222222,\"#7201a8\"],[0.3333333333333333,\"#9c179e\"],[0.4444444444444444,\"#bd3786\"],[0.5555555555555556,\"#d8576b\"],[0.6666666666666666,\"#ed7953\"],[0.7777777777777778,\"#fb9f3a\"],[0.8888888888888888,\"#fdca26\"],[1.0,\"#f0f921\"]],\"type\":\"surface\"}],\"table\":[{\"cells\":{\"fill\":{\"color\":\"#506784\"},\"line\":{\"color\":\"rgb(17,17,17)\"}},\"header\":{\"fill\":{\"color\":\"#2a3f5f\"},\"line\":{\"color\":\"rgb(17,17,17)\"}},\"type\":\"table\"}]},\"layout\":{\"annotationdefaults\":{\"arrowcolor\":\"#f2f5fa\",\"arrowhead\":0,\"arrowwidth\":1},\"autotypenumbers\":\"strict\",\"coloraxis\":{\"colorbar\":{\"outlinewidth\":0,\"ticks\":\"\"}},\"colorscale\":{\"diverging\":[[0,\"#8e0152\"],[0.1,\"#c51b7d\"],[0.2,\"#de77ae\"],[0.3,\"#f1b6da\"],[0.4,\"#fde0ef\"],[0.5,\"#f7f7f7\"],[0.6,\"#e6f5d0\"],[0.7,\"#b8e186\"],[0.8,\"#7fbc41\"],[0.9,\"#4d9221\"],[1,\"#276419\"]],\"sequential\":[[0.0,\"#0d0887\"],[0.1111111111111111,\"#46039f\"],[0.2222222222222222,\"#7201a8\"],[0.3333333333333333,\"#9c179e\"],[0.4444444444444444,\"#bd3786\"],[0.5555555555555556,\"#d8576b\"],[0.6666666666666666,\"#ed7953\"],[0.7777777777777778,\"#fb9f3a\"],[0.8888888888888888,\"#fdca26\"],[1.0,\"#f0f921\"]],\"sequentialminus\":[[0.0,\"#0d0887\"],[0.1111111111111111,\"#46039f\"],[0.2222222222222222,\"#7201a8\"],[0.3333333333333333,\"#9c179e\"],[0.4444444444444444,\"#bd3786\"],[0.5555555555555556,\"#d8576b\"],[0.6666666666666666,\"#ed7953\"],[0.7777777777777778,\"#fb9f3a\"],[0.8888888888888888,\"#fdca26\"],[1.0,\"#f0f921\"]]},\"colorway\":[\"#636efa\",\"#EF553B\",\"#00cc96\",\"#ab63fa\",\"#FFA15A\",\"#19d3f3\",\"#FF6692\",\"#B6E880\",\"#FF97FF\",\"#FECB52\"],\"font\":{\"color\":\"#f2f5fa\"},\"geo\":{\"bgcolor\":\"rgb(17,17,17)\",\"lakecolor\":\"rgb(17,17,17)\",\"landcolor\":\"rgb(17,17,17)\",\"showlakes\":true,\"showland\":true,\"subunitcolor\":\"#506784\"},\"hoverlabel\":{\"align\":\"left\"},\"hovermode\":\"closest\",\"mapbox\":{\"style\":\"dark\"},\"paper_bgcolor\":\"rgb(17,17,17)\",\"plot_bgcolor\":\"rgb(17,17,17)\",\"polar\":{\"angularaxis\":{\"gridcolor\":\"#506784\",\"linecolor\":\"#506784\",\"ticks\":\"\"},\"bgcolor\":\"rgb(17,17,17)\",\"radialaxis\":{\"gridcolor\":\"#506784\",\"linecolor\":\"#506784\",\"ticks\":\"\"}},\"scene\":{\"xaxis\":{\"backgroundcolor\":\"rgb(17,17,17)\",\"gridcolor\":\"#506784\",\"gridwidth\":2,\"linecolor\":\"#506784\",\"showbackground\":true,\"ticks\":\"\",\"zerolinecolor\":\"#C8D4E3\"},\"yaxis\":{\"backgroundcolor\":\"rgb(17,17,17)\",\"gridcolor\":\"#506784\",\"gridwidth\":2,\"linecolor\":\"#506784\",\"showbackground\":true,\"ticks\":\"\",\"zerolinecolor\":\"#C8D4E3\"},\"zaxis\":{\"backgroundcolor\":\"rgb(17,17,17)\",\"gridcolor\":\"#506784\",\"gridwidth\":2,\"linecolor\":\"#506784\",\"showbackground\":true,\"ticks\":\"\",\"zerolinecolor\":\"#C8D4E3\"}},\"shapedefaults\":{\"line\":{\"color\":\"#f2f5fa\"}},\"sliderdefaults\":{\"bgcolor\":\"#C8D4E3\",\"bordercolor\":\"rgb(17,17,17)\",\"borderwidth\":1,\"tickwidth\":0},\"ternary\":{\"aaxis\":{\"gridcolor\":\"#506784\",\"linecolor\":\"#506784\",\"ticks\":\"\"},\"baxis\":{\"gridcolor\":\"#506784\",\"linecolor\":\"#506784\",\"ticks\":\"\"},\"bgcolor\":\"rgb(17,17,17)\",\"caxis\":{\"gridcolor\":\"#506784\",\"linecolor\":\"#506784\",\"ticks\":\"\"}},\"title\":{\"x\":0.05},\"updatemenudefaults\":{\"bgcolor\":\"#506784\",\"borderwidth\":0},\"xaxis\":{\"automargin\":true,\"gridcolor\":\"#283442\",\"linecolor\":\"#506784\",\"ticks\":\"\",\"title\":{\"standoff\":15},\"zerolinecolor\":\"#283442\",\"zerolinewidth\":2},\"yaxis\":{\"automargin\":true,\"gridcolor\":\"#283442\",\"linecolor\":\"#506784\",\"ticks\":\"\",\"title\":{\"standoff\":15},\"zerolinecolor\":\"#283442\",\"zerolinewidth\":2}}},\"xaxis\":{\"rangeslider\":{\"visible\":false},\"title\":{\"text\":\"Date\"}},\"title\":{\"text\":\"TCS Stock Candlestick Chart\"},\"yaxis\":{\"title\":{\"text\":\"Stock Price (\\u20b9)\"}},\"width\":1000,\"height\":600},                        {\"responsive\": true}                    ).then(function(){\n",
       "                            \n",
       "var gd = document.getElementById('198fe29d-ba6f-45d2-a5e9-ee456773662f');\n",
       "var x = new MutationObserver(function (mutations, observer) {{\n",
       "        var display = window.getComputedStyle(gd).display;\n",
       "        if (!display || display === 'none') {{\n",
       "            console.log([gd, 'removed!']);\n",
       "            Plotly.purge(gd);\n",
       "            observer.disconnect();\n",
       "        }}\n",
       "}});\n",
       "\n",
       "// Listen for the removal of the full notebook cells\n",
       "var notebookContainer = gd.closest('#notebook-container');\n",
       "if (notebookContainer) {{\n",
       "    x.observe(notebookContainer, {childList: true});\n",
       "}}\n",
       "\n",
       "// Listen for the clearing of the current output cell\n",
       "var outputEl = gd.closest('.output');\n",
       "if (outputEl) {{\n",
       "    x.observe(outputEl, {childList: true});\n",
       "}}\n",
       "\n",
       "                        })                };                });            </script>        </div>"
      ]
     },
     "metadata": {},
     "output_type": "display_data"
    }
   ],
   "source": [
    "import pandas as pd\n",
    "import plotly.graph_objects as go\n",
    "\n",
    "\n",
    "df1[\"Date\"] = pd.to_datetime(df1[\"Date\"])\n",
    "\n",
    "\n",
    "fig = go.Figure(data=[go.Candlestick(\n",
    "    x=df1[\"Date\"],\n",
    "    open=df1[\"Open\"],\n",
    "    high=df1[\"High\"],\n",
    "    low=df1[\"Low\"],\n",
    "    close=df1[\"Close\"],\n",
    "    name=\"TCS Stock\"\n",
    ")])\n",
    "\n",
    "fig.update_layout(\n",
    "    title=\"TCS Stock Candlestick Chart\",\n",
    "    xaxis_title=\"Date\",\n",
    "    yaxis_title=\"Stock Price (₹)\",\n",
    "    xaxis_rangeslider_visible=False,  \n",
    "    template=\"plotly_dark\",  \n",
    "    width=1000, height=600\n",
    ")\n",
    "\n",
    "\n",
    "fig.show()\n"
   ]
  },
  {
   "cell_type": "code",
   "execution_count": 96,
   "id": "012acf30-769d-4d9c-9119-fe870d20832e",
   "metadata": {},
   "outputs": [
    {
     "data": {
      "image/png": "[encoded data removed]",
      "text/plain": [
       "<Figure size 640x480 with 1 Axes>"
      ]
     },
     "metadata": {},
     "output_type": "display_data"
    }
   ],
   "source": [
    "#How does the 7-day and 30-day moving average trend compare to the actual closing price?\n",
    "df1[\"7-day\"]=df1[\"Close\"].rolling(window=7).mean()\n",
    "df1[\"30-day\"]=df1[\"Close\"].rolling(window=30).mean()\n",
    "plt.plot(df1[\"Date\"],df1[\"Close\"],label=\"Closing\")\n",
    "plt.plot(df1[\"Date\"],df1[\"7-day\"],label=\"7-day moving avg\",linestyle=\"--\")\n",
    "plt.plot(df1[\"Date\"],df1[\"30-day\"],label=\"30-day moving avg\",linestyle=\"--\")\n",
    "plt.legend()\n",
    "plt.xlabel(\"Date\")                # X-axis label\n",
    "plt.ylabel(\"Stock Price (₹)\")      # Y-axis label\n",
    "plt.title(\"TCS Stock: Closing Price vs. Moving Averages\")  # Chart title\n",
    "plt.savefig(\"ma.png\", dpi=300, bbox_inches='tight')\n",
    "plt.show()"
   ]
  },
  {
   "cell_type": "code",
   "execution_count": 98,
   "id": "1b7d7530-ee14-4918-a43e-26d9763643f4",
   "metadata": {},
   "outputs": [
    {
     "data": {
      "image/png": "[encoded data removed]",
      "text/plain": [
       "<Figure size 640x480 with 1 Axes>"
      ]
     },
     "metadata": {},
     "output_type": "display_data"
    }
   ],
   "source": [
    "#Can we plot a histogram of trading volume to see distribution?\n",
    "sns.histplot(df1[\"Volume\"],kde=True)\n",
    "plt.xlabel(\"Trading Volume\")\n",
    "plt.ylabel(\"Frequency\")\n",
    "plt.title(\"Distribution of Trading Volume\")\n",
    "plt.savefig(\"hist.png\", dpi=300, bbox_inches='tight')\n",
    "plt.show()"
   ]
  },
  {
   "cell_type": "code",
   "execution_count": 102,
   "id": "ea257db2-0c14-4ff8-9849-7fc97abf8632",
   "metadata": {},
   "outputs": [
    {
     "data": {
      "image/png": "[encoded data removed]",
      "text/plain": [
       "<Figure size 1000x500 with 1 Axes>"
      ]
     },
     "metadata": {},
     "output_type": "display_data"
    }
   ],
   "source": [
    "#How does stock volatility (High - Low) change over time?\n",
    "plt.figure(figsize=(10,5))\n",
    "sns.lineplot(data=df1, x=\"Date\", y=\"volatile\", color=\"red\", label=\"Volatility\")\n",
    "plt.xlabel(\"Date\")\n",
    "plt.ylabel(\"Price Difference (High - Low)\")\n",
    "plt.title(\"Stock Volatility Over Time\")\n",
    "plt.xticks(rotation=90)\n",
    "plt.legend()\n",
    "plt.savefig(\"overtime.png\", dpi=300, bbox_inches='tight')\n",
    "plt.show()"
   ]
  },
  {
   "cell_type": "code",
   "execution_count": 33,
   "id": "a8677ad1-c5d7-40b4-abff-ef8d3311e1af",
   "metadata": {},
   "outputs": [
    {
     "data": {
      "text/plain": [
       "<Figure size 2000x2000 with 0 Axes>"
      ]
     },
     "metadata": {},
     "output_type": "display_data"
    },
    {
     "data": {
      "image/png": "[encoded data removed]",
      "text/plain": [
       "<Figure size 800x575 with 2 Axes>"
      ]
     },
     "metadata": {},
     "output_type": "display_data"
    }
   ],
   "source": [
    "import mplfinance as mpf\n",
    "df2=df1.copy()\n",
    "df2=df2.drop([\"Volume\",\"volatile\",\"7-day\",\"30-day\"],axis=1)\n",
    "df2.set_index('Date',inplace=True)\n",
    "plt.figure(figsize=(20,20))\n",
    "mpf.plot(df2,type='candle',style='charles')\n"
   ]
  },
  {
   "cell_type": "code",
   "execution_count": 34,
   "id": "d4c72e79-ade3-4dd5-a094-cf7ca3151149",
   "metadata": {},
   "outputs": [
    {
     "data": {
      "text/html": [
       "<div>\n",
       "<style scoped>\n",
       "    .dataframe tbody tr th:only-of-type {\n",
       "        vertical-align: middle;\n",
       "    }\n",
       "\n",
       "    .dataframe tbody tr th {\n",
       "        vertical-align: top;\n",
       "    }\n",
       "\n",
       "    .dataframe thead th {\n",
       "        text-align: right;\n",
       "    }\n",
       "</style>\n",
       "<table border=\"1\" class=\"dataframe\">\n",
       "  <thead>\n",
       "    <tr style=\"text-align: right;\">\n",
       "      <th></th>\n",
       "      <th>Date</th>\n",
       "      <th>Close</th>\n",
       "      <th>High</th>\n",
       "      <th>Low</th>\n",
       "      <th>Open</th>\n",
       "      <th>Volume</th>\n",
       "      <th>volatile</th>\n",
       "      <th>7-day</th>\n",
       "      <th>30-day</th>\n",
       "    </tr>\n",
       "  </thead>\n",
       "  <tbody>\n",
       "    <tr>\n",
       "      <th>0</th>\n",
       "      <td>2024-01-01</td>\n",
       "      <td>3689.464600</td>\n",
       "      <td>3709.697458</td>\n",
       "      <td>3652.580509</td>\n",
       "      <td>3669.037935</td>\n",
       "      <td>825907</td>\n",
       "      <td>57.116949</td>\n",
       "      <td>NaN</td>\n",
       "      <td>NaN</td>\n",
       "    </tr>\n",
       "    <tr>\n",
       "      <th>1</th>\n",
       "      <td>2024-01-02</td>\n",
       "      <td>3662.455078</td>\n",
       "      <td>3689.464762</td>\n",
       "      <td>3647.014187</td>\n",
       "      <td>3689.464762</td>\n",
       "      <td>1344068</td>\n",
       "      <td>42.450575</td>\n",
       "      <td>NaN</td>\n",
       "      <td>NaN</td>\n",
       "    </tr>\n",
       "    <tr>\n",
       "      <th>2</th>\n",
       "      <td>2024-01-03</td>\n",
       "      <td>3573.923584</td>\n",
       "      <td>3651.467196</td>\n",
       "      <td>3569.373637</td>\n",
       "      <td>3646.771894</td>\n",
       "      <td>1803075</td>\n",
       "      <td>82.093558</td>\n",
       "      <td>NaN</td>\n",
       "      <td>NaN</td>\n",
       "    </tr>\n",
       "    <tr>\n",
       "      <th>3</th>\n",
       "      <td>2024-01-04</td>\n",
       "      <td>3549.770264</td>\n",
       "      <td>3600.304198</td>\n",
       "      <td>3534.474490</td>\n",
       "      <td>3583.604750</td>\n",
       "      <td>3598144</td>\n",
       "      <td>65.829708</td>\n",
       "      <td>NaN</td>\n",
       "      <td>NaN</td>\n",
       "    </tr>\n",
       "    <tr>\n",
       "      <th>4</th>\n",
       "      <td>2024-01-05</td>\n",
       "      <td>3618.600586</td>\n",
       "      <td>3628.136307</td>\n",
       "      <td>3557.563087</td>\n",
       "      <td>3557.708205</td>\n",
       "      <td>1963127</td>\n",
       "      <td>70.573219</td>\n",
       "      <td>NaN</td>\n",
       "      <td>NaN</td>\n",
       "    </tr>\n",
       "    <tr>\n",
       "      <th>...</th>\n",
       "      <td>...</td>\n",
       "      <td>...</td>\n",
       "      <td>...</td>\n",
       "      <td>...</td>\n",
       "      <td>...</td>\n",
       "      <td>...</td>\n",
       "      <td>...</td>\n",
       "      <td>...</td>\n",
       "      <td>...</td>\n",
       "    </tr>\n",
       "    <tr>\n",
       "      <th>241</th>\n",
       "      <td>2024-12-24</td>\n",
       "      <td>4113.920410</td>\n",
       "      <td>4151.816315</td>\n",
       "      <td>4093.052862</td>\n",
       "      <td>4093.052862</td>\n",
       "      <td>1181886</td>\n",
       "      <td>58.763453</td>\n",
       "      <td>4200.406076</td>\n",
       "      <td>4217.464941</td>\n",
       "    </tr>\n",
       "    <tr>\n",
       "      <th>242</th>\n",
       "      <td>2024-12-26</td>\n",
       "      <td>4103.683594</td>\n",
       "      <td>4134.049629</td>\n",
       "      <td>4078.140578</td>\n",
       "      <td>4113.920313</td>\n",
       "      <td>1208464</td>\n",
       "      <td>55.909051</td>\n",
       "      <td>4165.800537</td>\n",
       "      <td>4216.493750</td>\n",
       "    </tr>\n",
       "    <tr>\n",
       "      <th>243</th>\n",
       "      <td>2024-12-27</td>\n",
       "      <td>4099.500488</td>\n",
       "      <td>4115.347963</td>\n",
       "      <td>4082.176549</td>\n",
       "      <td>4097.679420</td>\n",
       "      <td>858100</td>\n",
       "      <td>33.171414</td>\n",
       "      <td>4142.788818</td>\n",
       "      <td>4215.425781</td>\n",
       "    </tr>\n",
       "    <tr>\n",
       "      <th>244</th>\n",
       "      <td>2024-12-30</td>\n",
       "      <td>4093.545166</td>\n",
       "      <td>4133.409691</td>\n",
       "      <td>4047.479685</td>\n",
       "      <td>4085.867746</td>\n",
       "      <td>1527169</td>\n",
       "      <td>85.930006</td>\n",
       "      <td>4116.205427</td>\n",
       "      <td>4215.703019</td>\n",
       "    </tr>\n",
       "    <tr>\n",
       "      <th>245</th>\n",
       "      <td>2024-12-31</td>\n",
       "      <td>4030.549561</td>\n",
       "      <td>4074.991267</td>\n",
       "      <td>3968.784155</td>\n",
       "      <td>4070.118744</td>\n",
       "      <td>1555429</td>\n",
       "      <td>106.207112</td>\n",
       "      <td>4091.302420</td>\n",
       "      <td>4214.026416</td>\n",
       "    </tr>\n",
       "  </tbody>\n",
       "</table>\n",
       "<p>246 rows × 9 columns</p>\n",
       "</div>"
      ],
      "text/plain": [
       "          Date        Close         High          Low         Open   Volume  \\\n",
       "0   2024-01-01  3689.464600  3709.697458  3652.580509  3669.037935   825907   \n",
       "1   2024-01-02  3662.455078  3689.464762  3647.014187  3689.464762  1344068   \n",
       "2   2024-01-03  3573.923584  3651.467196  3569.373637  3646.771894  1803075   \n",
       "3   2024-01-04  3549.770264  3600.304198  3534.474490  3583.604750  3598144   \n",
       "4   2024-01-05  3618.600586  3628.136307  3557.563087  3557.708205  1963127   \n",
       "..         ...          ...          ...          ...          ...      ...   \n",
       "241 2024-12-24  4113.920410  4151.816315  4093.052862  4093.052862  1181886   \n",
       "242 2024-12-26  4103.683594  4134.049629  4078.140578  4113.920313  1208464   \n",
       "243 2024-12-27  4099.500488  4115.347963  4082.176549  4097.679420   858100   \n",
       "244 2024-12-30  4093.545166  4133.409691  4047.479685  4085.867746  1527169   \n",
       "245 2024-12-31  4030.549561  4074.991267  3968.784155  4070.118744  1555429   \n",
       "\n",
       "       volatile        7-day       30-day  \n",
       "0     57.116949          NaN          NaN  \n",
       "1     42.450575          NaN          NaN  \n",
       "2     82.093558          NaN          NaN  \n",
       "3     65.829708          NaN          NaN  \n",
       "4     70.573219          NaN          NaN  \n",
       "..          ...          ...          ...  \n",
       "241   58.763453  4200.406076  4217.464941  \n",
       "242   55.909051  4165.800537  4216.493750  \n",
       "243   33.171414  4142.788818  4215.425781  \n",
       "244   85.930006  4116.205427  4215.703019  \n",
       "245  106.207112  4091.302420  4214.026416  \n",
       "\n",
       "[246 rows x 9 columns]"
      ]
     },
     "execution_count": 34,
     "metadata": {},
     "output_type": "execute_result"
    }
   ],
   "source": [
    "df1"
   ]
  }
 ],
 "metadata": {
  "kernelspec": {
   "display_name": "Python 3 (ipykernel)",
   "language": "python",
   "name": "python3"
  },
  "language_info": {
   "codemirror_mode": {
    "name": "ipython",
    "version": 3
   },
   "file_extension": ".py",
   "mimetype": "text/x-python",
   "name": "python",
   "nbconvert_exporter": "python",
   "pygments_lexer": "ipython3",
   "version": "3.12.4"
  }
 },
 "nbformat": 4,
 "nbformat_minor": 5
}
